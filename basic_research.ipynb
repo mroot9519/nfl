{
 "cells": [
  {
   "cell_type": "code",
   "execution_count": 38,
   "metadata": {},
   "outputs": [],
   "source": [
    "#Dependencies\n",
    "import csv\n",
    "import numpy as np\n",
    "import pandas as pd\n",
    "# Add Matplotlib inline magic command\n",
    "%matplotlib inline\n",
    "# Dependencies and Setup\n",
    "import matplotlib.pyplot as plt"
   ]
  },
  {
   "cell_type": "code",
   "execution_count": 39,
   "metadata": {},
   "outputs": [],
   "source": [
    "#Prepare data to load into df\n",
    "data_to_load = \"spreadspoke_scores.csv\""
   ]
  },
  {
   "cell_type": "code",
   "execution_count": 40,
   "metadata": {},
   "outputs": [
    {
     "data": {
      "text/html": [
       "<div>\n",
       "<style scoped>\n",
       "    .dataframe tbody tr th:only-of-type {\n",
       "        vertical-align: middle;\n",
       "    }\n",
       "\n",
       "    .dataframe tbody tr th {\n",
       "        vertical-align: top;\n",
       "    }\n",
       "\n",
       "    .dataframe thead th {\n",
       "        text-align: right;\n",
       "    }\n",
       "</style>\n",
       "<table border=\"1\" class=\"dataframe\">\n",
       "  <thead>\n",
       "    <tr style=\"text-align: right;\">\n",
       "      <th></th>\n",
       "      <th>schedule_date</th>\n",
       "      <th>schedule_season</th>\n",
       "      <th>schedule_week</th>\n",
       "      <th>schedule_playoff</th>\n",
       "      <th>team_home</th>\n",
       "      <th>score_home</th>\n",
       "      <th>score_away</th>\n",
       "      <th>team_away</th>\n",
       "      <th>team_favorite_id</th>\n",
       "      <th>spread_favorite</th>\n",
       "      <th>over_under_line</th>\n",
       "      <th>stadium</th>\n",
       "      <th>stadium_neutral</th>\n",
       "      <th>weather_temperature</th>\n",
       "      <th>weather_wind_mph</th>\n",
       "      <th>weather_humidity</th>\n",
       "      <th>weather_detail</th>\n",
       "    </tr>\n",
       "  </thead>\n",
       "  <tbody>\n",
       "    <tr>\n",
       "      <th>0</th>\n",
       "      <td>09/02/1966</td>\n",
       "      <td>1966</td>\n",
       "      <td>1</td>\n",
       "      <td>False</td>\n",
       "      <td>Miami Dolphins</td>\n",
       "      <td>14</td>\n",
       "      <td>23</td>\n",
       "      <td>Oakland Raiders</td>\n",
       "      <td>NaN</td>\n",
       "      <td>NaN</td>\n",
       "      <td>NaN</td>\n",
       "      <td>Orange Bowl</td>\n",
       "      <td>False</td>\n",
       "      <td>83.0</td>\n",
       "      <td>6.0</td>\n",
       "      <td>71</td>\n",
       "      <td>NaN</td>\n",
       "    </tr>\n",
       "    <tr>\n",
       "      <th>1</th>\n",
       "      <td>09/03/1966</td>\n",
       "      <td>1966</td>\n",
       "      <td>1</td>\n",
       "      <td>False</td>\n",
       "      <td>Houston Oilers</td>\n",
       "      <td>45</td>\n",
       "      <td>7</td>\n",
       "      <td>Denver Broncos</td>\n",
       "      <td>NaN</td>\n",
       "      <td>NaN</td>\n",
       "      <td>NaN</td>\n",
       "      <td>Rice Stadium</td>\n",
       "      <td>False</td>\n",
       "      <td>81.0</td>\n",
       "      <td>7.0</td>\n",
       "      <td>70</td>\n",
       "      <td>NaN</td>\n",
       "    </tr>\n",
       "    <tr>\n",
       "      <th>2</th>\n",
       "      <td>09/04/1966</td>\n",
       "      <td>1966</td>\n",
       "      <td>1</td>\n",
       "      <td>False</td>\n",
       "      <td>San Diego Chargers</td>\n",
       "      <td>27</td>\n",
       "      <td>7</td>\n",
       "      <td>Buffalo Bills</td>\n",
       "      <td>NaN</td>\n",
       "      <td>NaN</td>\n",
       "      <td>NaN</td>\n",
       "      <td>Balboa Stadium</td>\n",
       "      <td>False</td>\n",
       "      <td>70.0</td>\n",
       "      <td>7.0</td>\n",
       "      <td>82</td>\n",
       "      <td>NaN</td>\n",
       "    </tr>\n",
       "    <tr>\n",
       "      <th>3</th>\n",
       "      <td>09/09/1966</td>\n",
       "      <td>1966</td>\n",
       "      <td>2</td>\n",
       "      <td>False</td>\n",
       "      <td>Miami Dolphins</td>\n",
       "      <td>14</td>\n",
       "      <td>19</td>\n",
       "      <td>New York Jets</td>\n",
       "      <td>NaN</td>\n",
       "      <td>NaN</td>\n",
       "      <td>NaN</td>\n",
       "      <td>Orange Bowl</td>\n",
       "      <td>False</td>\n",
       "      <td>82.0</td>\n",
       "      <td>11.0</td>\n",
       "      <td>78</td>\n",
       "      <td>NaN</td>\n",
       "    </tr>\n",
       "    <tr>\n",
       "      <th>4</th>\n",
       "      <td>09/10/1966</td>\n",
       "      <td>1966</td>\n",
       "      <td>1</td>\n",
       "      <td>False</td>\n",
       "      <td>Green Bay Packers</td>\n",
       "      <td>24</td>\n",
       "      <td>3</td>\n",
       "      <td>Baltimore Colts</td>\n",
       "      <td>NaN</td>\n",
       "      <td>NaN</td>\n",
       "      <td>NaN</td>\n",
       "      <td>Lambeau Field</td>\n",
       "      <td>False</td>\n",
       "      <td>64.0</td>\n",
       "      <td>8.0</td>\n",
       "      <td>62</td>\n",
       "      <td>NaN</td>\n",
       "    </tr>\n",
       "  </tbody>\n",
       "</table>\n",
       "</div>"
      ],
      "text/plain": [
       "  schedule_date  schedule_season schedule_week  schedule_playoff  \\\n",
       "0    09/02/1966             1966             1             False   \n",
       "1    09/03/1966             1966             1             False   \n",
       "2    09/04/1966             1966             1             False   \n",
       "3    09/09/1966             1966             2             False   \n",
       "4    09/10/1966             1966             1             False   \n",
       "\n",
       "            team_home  score_home  score_away        team_away  \\\n",
       "0      Miami Dolphins          14          23  Oakland Raiders   \n",
       "1      Houston Oilers          45           7   Denver Broncos   \n",
       "2  San Diego Chargers          27           7    Buffalo Bills   \n",
       "3      Miami Dolphins          14          19    New York Jets   \n",
       "4   Green Bay Packers          24           3  Baltimore Colts   \n",
       "\n",
       "  team_favorite_id  spread_favorite over_under_line         stadium  \\\n",
       "0              NaN              NaN             NaN     Orange Bowl   \n",
       "1              NaN              NaN             NaN    Rice Stadium   \n",
       "2              NaN              NaN             NaN  Balboa Stadium   \n",
       "3              NaN              NaN             NaN     Orange Bowl   \n",
       "4              NaN              NaN             NaN   Lambeau Field   \n",
       "\n",
       "   stadium_neutral  weather_temperature  weather_wind_mph weather_humidity  \\\n",
       "0            False                 83.0               6.0               71   \n",
       "1            False                 81.0               7.0               70   \n",
       "2            False                 70.0               7.0               82   \n",
       "3            False                 82.0              11.0               78   \n",
       "4            False                 64.0               8.0               62   \n",
       "\n",
       "  weather_detail  \n",
       "0            NaN  \n",
       "1            NaN  \n",
       "2            NaN  \n",
       "3            NaN  \n",
       "4            NaN  "
      ]
     },
     "execution_count": 40,
     "metadata": {},
     "output_type": "execute_result"
    }
   ],
   "source": [
    "#load data into dataframe\n",
    "scores_df = pd.read_csv(data_to_load)\n",
    "scores_df.head()"
   ]
  },
  {
   "cell_type": "code",
   "execution_count": 41,
   "metadata": {},
   "outputs": [],
   "source": [
    "#Update old home team names\n",
    "scores_df['team_home'] = np.where(scores_df['team_home'] == \"Tennessee Oilers\", \"Tennessee Titans\", scores_df['team_home'])\n",
    "scores_df['team_home'] = np.where(scores_df['team_home'] == \"Houston Oilers\", \"Tennessee Titans\", scores_df['team_home'])\n",
    "scores_df['team_home'] = np.where(scores_df['team_home'] == \"Baltimore Colts\", \"Indianapolis Colts\", scores_df['team_home'])\n",
    "scores_df['team_home'] = np.where(scores_df['team_home'] == \"San Diego Chargers\", \"Los Angeles Chargers\", scores_df['team_home'])\n",
    "scores_df['team_home'] = np.where(scores_df['team_home'] == \"Phoenix Cardinals\", \"Arizona Cardinals\", scores_df['team_home'])\n",
    "scores_df['team_home'] = np.where(scores_df['team_home'] == \"St. Louis Cardinals\", \"Arizona Cardinals\", scores_df['team_home'])\n",
    "scores_df['team_home'] = np.where(scores_df['team_home'] == \"Los Angeles Raiders\", \"Las Vegas Raiders\", scores_df['team_home'])\n",
    "scores_df['team_home'] = np.where(scores_df['team_home'] == \"Oakland Raiders\", \"Las Vegas Raiders\", scores_df['team_home'])\n",
    "scores_df['team_home'] = np.where(scores_df['team_home'] == \"St. Louis Rams\", \"Los Angeles Rams\", scores_df['team_home'])\n",
    "scores_df['team_home'] = np.where(scores_df['team_home'] == \"Boston Patriots\", \"New England Patriots\", scores_df['team_home'])\n",
    "\n",
    "#Update old away team names\n",
    "scores_df['team_away'] = np.where(scores_df['team_away'] == \"Tennessee Oilers\", \"Tennessee Titans\", scores_df['team_away'])\n",
    "scores_df['team_away'] = np.where(scores_df['team_away'] == \"Houston Oilers\", \"Tennessee Titans\", scores_df['team_away'])\n",
    "scores_df['team_away'] = np.where(scores_df['team_away'] == \"Baltimore Colts\", \"Indianapolis Colts\", scores_df['team_away'])\n",
    "scores_df['team_away'] = np.where(scores_df['team_away'] == \"San Diego Chargers\", \"Los Angeles Chargers\", scores_df['team_away'])\n",
    "scores_df['team_away'] = np.where(scores_df['team_away'] == \"Phoenix Cardinals\", \"Arizona Cardinals\", scores_df['team_away'])\n",
    "scores_df['team_away'] = np.where(scores_df['team_away'] == \"St. Louis Cardinals\", \"Arizona Cardinals\", scores_df['team_away'])\n",
    "scores_df['team_away'] = np.where(scores_df['team_away'] == \"Los Angeles Raiders\", \"Las Vegas Raiders\", scores_df['team_away'])\n",
    "scores_df['team_away'] = np.where(scores_df['team_away'] == \"Oakland Raiders\", \"Las Vegas Raiders\", scores_df['team_away'])\n",
    "scores_df['team_away'] = np.where(scores_df['team_away'] == \"St. Louis Rams\", \"Los Angeles Rams\", scores_df['team_away'])\n",
    "scores_df['team_away'] = np.where(scores_df['team_away'] == \"Boston Patriots\", \"New England Patriots\", scores_df['team_away'])\n"
   ]
  },
  {
   "cell_type": "code",
   "execution_count": 42,
   "metadata": {},
   "outputs": [
    {
     "data": {
      "text/plain": [
       "array(['Miami Dolphins', 'Tennessee Titans', 'Los Angeles Chargers',\n",
       "       'Green Bay Packers', 'Atlanta Falcons', 'Buffalo Bills',\n",
       "       'Detroit Lions', 'Pittsburgh Steelers', 'San Francisco 49ers',\n",
       "       'Arizona Cardinals', 'Washington Redskins', 'Los Angeles Rams',\n",
       "       'Cleveland Browns', 'Dallas Cowboys', 'Denver Broncos',\n",
       "       'Minnesota Vikings', 'New York Jets', 'Las Vegas Raiders',\n",
       "       'Philadelphia Eagles', 'Indianapolis Colts',\n",
       "       'New England Patriots', 'Kansas City Chiefs', 'New York Giants',\n",
       "       'Chicago Bears', 'New Orleans Saints', 'Cincinnati Bengals',\n",
       "       'Seattle Seahawks', 'Tampa Bay Buccaneers', 'Jacksonville Jaguars',\n",
       "       'Carolina Panthers', 'Baltimore Ravens', 'Houston Texans'],\n",
       "      dtype=object)"
      ]
     },
     "execution_count": 42,
     "metadata": {},
     "output_type": "execute_result"
    }
   ],
   "source": [
    "scores_df['team_home'].unique()"
   ]
  },
  {
   "cell_type": "code",
   "execution_count": 43,
   "metadata": {},
   "outputs": [],
   "source": [
    "#Create labels dataframe\n",
    "labels_df = pd.DataFrame({'team_home':['Green Bay Packers', 'Indianapolis Colts', 'Kansas City Chiefs',\n",
    "       'Dallas Cowboys', 'Miami Dolphins', 'Minnesota Vikings',\n",
    "       'Tampa Bay Buccaneers', 'Atlanta Falcons', 'Pittsburgh Steelers',\n",
    "       'Los Angeles Rams', 'New England Patriots', 'Buffalo Bills',\n",
    "       'Chicago Bears', 'Denver Broncos', 'New Orleans Saints',\n",
    "       'New York Jets', 'Philadelphia Eagles', 'Seattle Seahawks',\n",
    "       'Arizona Cardinals', 'Washington Redskins', 'Detroit Lions',\n",
    "       'New York Giants', 'Los Angeles Chargers', 'San Francisco 49ers',\n",
    "       'Cincinnati Bengals', 'Cleveland Browns', 'Tennessee Titans',\n",
    "       'Las Vegas Raiders', 'Jacksonville Jaguars', 'Carolina Panthers',\n",
    "       'Baltimore Ravens', 'Houston Texans'],'home_label':['GB','IND','KC','DAL','MIA','MIN','TB','ATL','PIT','LAR','NE','BUF',\n",
    "                                                     'CHI','DEN','NO','NYJ','PHI','SEA','ARI','WAS','DET','NYG',\n",
    "                                                     'LAC','SF','CIN','CLE','TEN','LV','JAX','CAR','BAL','HOU']})\n",
    "\n",
    "#Create labels dataframe\n",
    "labels_df_away = pd.DataFrame({'team_away':['Green Bay Packers', 'Indianapolis Colts', 'Kansas City Chiefs',\n",
    "       'Dallas Cowboys', 'Miami Dolphins', 'Minnesota Vikings',\n",
    "       'Tampa Bay Buccaneers', 'Atlanta Falcons', 'Pittsburgh Steelers',\n",
    "       'Los Angeles Rams', 'New England Patriots', 'Buffalo Bills',\n",
    "       'Chicago Bears', 'Denver Broncos', 'New Orleans Saints',\n",
    "       'New York Jets', 'Philadelphia Eagles', 'Seattle Seahawks',\n",
    "       'Arizona Cardinals', 'Washington Redskins', 'Detroit Lions',\n",
    "       'New York Giants', 'Los Angeles Chargers', 'San Francisco 49ers',\n",
    "       'Cincinnati Bengals', 'Cleveland Browns', 'Tennessee Titans',\n",
    "       'Las Vegas Raiders', 'Jacksonville Jaguars', 'Carolina Panthers',\n",
    "       'Baltimore Ravens', 'Houston Texans'],'away_label':['GB','IND','KC','DAL','MIA','MIN','TB','ATL','PIT','LAR','NE','BUF',\n",
    "                                                     'CHI','DEN','NO','NYJ','PHI','SEA','ARI','WAS','DET','NYG',\n",
    "                                                     'LAC','SF','CIN','CLE','TEN','LV','JAX','CAR','BAL','HOU']})"
   ]
  },
  {
   "cell_type": "code",
   "execution_count": 44,
   "metadata": {},
   "outputs": [
    {
     "data": {
      "text/html": [
       "<div>\n",
       "<style scoped>\n",
       "    .dataframe tbody tr th:only-of-type {\n",
       "        vertical-align: middle;\n",
       "    }\n",
       "\n",
       "    .dataframe tbody tr th {\n",
       "        vertical-align: top;\n",
       "    }\n",
       "\n",
       "    .dataframe thead th {\n",
       "        text-align: right;\n",
       "    }\n",
       "</style>\n",
       "<table border=\"1\" class=\"dataframe\">\n",
       "  <thead>\n",
       "    <tr style=\"text-align: right;\">\n",
       "      <th></th>\n",
       "      <th>schedule_date</th>\n",
       "      <th>schedule_season</th>\n",
       "      <th>schedule_week</th>\n",
       "      <th>schedule_playoff</th>\n",
       "      <th>team_home</th>\n",
       "      <th>score_home</th>\n",
       "      <th>score_away</th>\n",
       "      <th>team_away</th>\n",
       "      <th>team_favorite_id</th>\n",
       "      <th>spread_favorite</th>\n",
       "      <th>over_under_line</th>\n",
       "      <th>stadium</th>\n",
       "      <th>stadium_neutral</th>\n",
       "      <th>weather_temperature</th>\n",
       "      <th>weather_wind_mph</th>\n",
       "      <th>weather_humidity</th>\n",
       "      <th>weather_detail</th>\n",
       "      <th>home_label</th>\n",
       "      <th>away_label</th>\n",
       "    </tr>\n",
       "  </thead>\n",
       "  <tbody>\n",
       "    <tr>\n",
       "      <th>0</th>\n",
       "      <td>09/02/1966</td>\n",
       "      <td>1966</td>\n",
       "      <td>1</td>\n",
       "      <td>False</td>\n",
       "      <td>Miami Dolphins</td>\n",
       "      <td>14</td>\n",
       "      <td>23</td>\n",
       "      <td>Las Vegas Raiders</td>\n",
       "      <td>NaN</td>\n",
       "      <td>NaN</td>\n",
       "      <td>NaN</td>\n",
       "      <td>Orange Bowl</td>\n",
       "      <td>False</td>\n",
       "      <td>83.0</td>\n",
       "      <td>6.0</td>\n",
       "      <td>71</td>\n",
       "      <td>NaN</td>\n",
       "      <td>MIA</td>\n",
       "      <td>LV</td>\n",
       "    </tr>\n",
       "    <tr>\n",
       "      <th>1</th>\n",
       "      <td>09/03/1966</td>\n",
       "      <td>1966</td>\n",
       "      <td>1</td>\n",
       "      <td>False</td>\n",
       "      <td>Tennessee Titans</td>\n",
       "      <td>45</td>\n",
       "      <td>7</td>\n",
       "      <td>Denver Broncos</td>\n",
       "      <td>NaN</td>\n",
       "      <td>NaN</td>\n",
       "      <td>NaN</td>\n",
       "      <td>Rice Stadium</td>\n",
       "      <td>False</td>\n",
       "      <td>81.0</td>\n",
       "      <td>7.0</td>\n",
       "      <td>70</td>\n",
       "      <td>NaN</td>\n",
       "      <td>TEN</td>\n",
       "      <td>DEN</td>\n",
       "    </tr>\n",
       "    <tr>\n",
       "      <th>2</th>\n",
       "      <td>09/04/1966</td>\n",
       "      <td>1966</td>\n",
       "      <td>1</td>\n",
       "      <td>False</td>\n",
       "      <td>Los Angeles Chargers</td>\n",
       "      <td>27</td>\n",
       "      <td>7</td>\n",
       "      <td>Buffalo Bills</td>\n",
       "      <td>NaN</td>\n",
       "      <td>NaN</td>\n",
       "      <td>NaN</td>\n",
       "      <td>Balboa Stadium</td>\n",
       "      <td>False</td>\n",
       "      <td>70.0</td>\n",
       "      <td>7.0</td>\n",
       "      <td>82</td>\n",
       "      <td>NaN</td>\n",
       "      <td>LAC</td>\n",
       "      <td>BUF</td>\n",
       "    </tr>\n",
       "    <tr>\n",
       "      <th>3</th>\n",
       "      <td>09/09/1966</td>\n",
       "      <td>1966</td>\n",
       "      <td>2</td>\n",
       "      <td>False</td>\n",
       "      <td>Miami Dolphins</td>\n",
       "      <td>14</td>\n",
       "      <td>19</td>\n",
       "      <td>New York Jets</td>\n",
       "      <td>NaN</td>\n",
       "      <td>NaN</td>\n",
       "      <td>NaN</td>\n",
       "      <td>Orange Bowl</td>\n",
       "      <td>False</td>\n",
       "      <td>82.0</td>\n",
       "      <td>11.0</td>\n",
       "      <td>78</td>\n",
       "      <td>NaN</td>\n",
       "      <td>MIA</td>\n",
       "      <td>NYJ</td>\n",
       "    </tr>\n",
       "    <tr>\n",
       "      <th>4</th>\n",
       "      <td>09/10/1966</td>\n",
       "      <td>1966</td>\n",
       "      <td>1</td>\n",
       "      <td>False</td>\n",
       "      <td>Green Bay Packers</td>\n",
       "      <td>24</td>\n",
       "      <td>3</td>\n",
       "      <td>Indianapolis Colts</td>\n",
       "      <td>NaN</td>\n",
       "      <td>NaN</td>\n",
       "      <td>NaN</td>\n",
       "      <td>Lambeau Field</td>\n",
       "      <td>False</td>\n",
       "      <td>64.0</td>\n",
       "      <td>8.0</td>\n",
       "      <td>62</td>\n",
       "      <td>NaN</td>\n",
       "      <td>GB</td>\n",
       "      <td>IND</td>\n",
       "    </tr>\n",
       "  </tbody>\n",
       "</table>\n",
       "</div>"
      ],
      "text/plain": [
       "  schedule_date  schedule_season schedule_week  schedule_playoff  \\\n",
       "0    09/02/1966             1966             1             False   \n",
       "1    09/03/1966             1966             1             False   \n",
       "2    09/04/1966             1966             1             False   \n",
       "3    09/09/1966             1966             2             False   \n",
       "4    09/10/1966             1966             1             False   \n",
       "\n",
       "              team_home  score_home  score_away           team_away  \\\n",
       "0        Miami Dolphins          14          23   Las Vegas Raiders   \n",
       "1      Tennessee Titans          45           7      Denver Broncos   \n",
       "2  Los Angeles Chargers          27           7       Buffalo Bills   \n",
       "3        Miami Dolphins          14          19       New York Jets   \n",
       "4     Green Bay Packers          24           3  Indianapolis Colts   \n",
       "\n",
       "  team_favorite_id  spread_favorite over_under_line         stadium  \\\n",
       "0              NaN              NaN             NaN     Orange Bowl   \n",
       "1              NaN              NaN             NaN    Rice Stadium   \n",
       "2              NaN              NaN             NaN  Balboa Stadium   \n",
       "3              NaN              NaN             NaN     Orange Bowl   \n",
       "4              NaN              NaN             NaN   Lambeau Field   \n",
       "\n",
       "   stadium_neutral  weather_temperature  weather_wind_mph weather_humidity  \\\n",
       "0            False                 83.0               6.0               71   \n",
       "1            False                 81.0               7.0               70   \n",
       "2            False                 70.0               7.0               82   \n",
       "3            False                 82.0              11.0               78   \n",
       "4            False                 64.0               8.0               62   \n",
       "\n",
       "  weather_detail home_label away_label  \n",
       "0            NaN        MIA         LV  \n",
       "1            NaN        TEN        DEN  \n",
       "2            NaN        LAC        BUF  \n",
       "3            NaN        MIA        NYJ  \n",
       "4            NaN         GB        IND  "
      ]
     },
     "execution_count": 44,
     "metadata": {},
     "output_type": "execute_result"
    }
   ],
   "source": [
    "# Combine the data into a single dataset\n",
    "scores_df = pd.merge(scores_df, labels_df, how=\"left\", on=[\"team_home\", \"team_home\"])\n",
    "scores_df = pd.merge(scores_df, labels_df_away, how=\"left\", on=[\"team_away\", \"team_away\"])\n",
    "scores_df.head()"
   ]
  },
  {
   "cell_type": "code",
   "execution_count": 45,
   "metadata": {},
   "outputs": [],
   "source": [
    "# Get the average points scored by home and away\n",
    "home_points = scores_df.groupby([\"team_home\"]).mean()[\"score_home\"]\n",
    "away_points = scores_df.groupby(['team_away']).mean()['score_away']\n",
    "#convert home and away points to dataframes\n",
    "home_points_df = pd.DataFrame(home_points)\n",
    "away_points_df = pd.DataFrame(away_points)"
   ]
  },
  {
   "cell_type": "code",
   "execution_count": 46,
   "metadata": {},
   "outputs": [],
   "source": [
    "#sort values \n",
    "home_points_df = home_points_df.sort_values(by='score_home')\n",
    "away_points_df = away_points_df.sort_values(by='score_away')"
   ]
  },
  {
   "cell_type": "code",
   "execution_count": 47,
   "metadata": {},
   "outputs": [
    {
     "data": {
      "text/html": [
       "<div>\n",
       "<style scoped>\n",
       "    .dataframe tbody tr th:only-of-type {\n",
       "        vertical-align: middle;\n",
       "    }\n",
       "\n",
       "    .dataframe tbody tr th {\n",
       "        vertical-align: top;\n",
       "    }\n",
       "\n",
       "    .dataframe thead th {\n",
       "        text-align: right;\n",
       "    }\n",
       "</style>\n",
       "<table border=\"1\" class=\"dataframe\">\n",
       "  <thead>\n",
       "    <tr style=\"text-align: right;\">\n",
       "      <th></th>\n",
       "      <th>score_home</th>\n",
       "    </tr>\n",
       "    <tr>\n",
       "      <th>team_home</th>\n",
       "      <th></th>\n",
       "    </tr>\n",
       "  </thead>\n",
       "  <tbody>\n",
       "    <tr>\n",
       "      <th>Tampa Bay Buccaneers</th>\n",
       "      <td>19.051282</td>\n",
       "    </tr>\n",
       "    <tr>\n",
       "      <th>Cleveland Browns</th>\n",
       "      <td>19.410000</td>\n",
       "    </tr>\n",
       "    <tr>\n",
       "      <th>Chicago Bears</th>\n",
       "      <td>20.348837</td>\n",
       "    </tr>\n",
       "    <tr>\n",
       "      <th>New York Giants</th>\n",
       "      <td>21.032634</td>\n",
       "    </tr>\n",
       "    <tr>\n",
       "      <th>Arizona Cardinals</th>\n",
       "      <td>21.045346</td>\n",
       "    </tr>\n",
       "    <tr>\n",
       "      <th>New York Jets</th>\n",
       "      <td>21.064286</td>\n",
       "    </tr>\n",
       "    <tr>\n",
       "      <th>Buffalo Bills</th>\n",
       "      <td>21.112412</td>\n",
       "    </tr>\n",
       "    <tr>\n",
       "      <th>Jacksonville Jaguars</th>\n",
       "      <td>21.254902</td>\n",
       "    </tr>\n",
       "    <tr>\n",
       "      <th>Philadelphia Eagles</th>\n",
       "      <td>21.347032</td>\n",
       "    </tr>\n",
       "    <tr>\n",
       "      <th>Carolina Panthers</th>\n",
       "      <td>21.512077</td>\n",
       "    </tr>\n",
       "    <tr>\n",
       "      <th>Atlanta Falcons</th>\n",
       "      <td>21.747045</td>\n",
       "    </tr>\n",
       "    <tr>\n",
       "      <th>Tennessee Titans</th>\n",
       "      <td>21.780660</td>\n",
       "    </tr>\n",
       "    <tr>\n",
       "      <th>Detroit Lions</th>\n",
       "      <td>21.805288</td>\n",
       "    </tr>\n",
       "    <tr>\n",
       "      <th>Washington Redskins</th>\n",
       "      <td>22.044084</td>\n",
       "    </tr>\n",
       "    <tr>\n",
       "      <th>New Orleans Saints</th>\n",
       "      <td>22.093079</td>\n",
       "    </tr>\n",
       "    <tr>\n",
       "      <th>Houston Texans</th>\n",
       "      <td>22.320000</td>\n",
       "    </tr>\n",
       "    <tr>\n",
       "      <th>Indianapolis Colts</th>\n",
       "      <td>22.504587</td>\n",
       "    </tr>\n",
       "    <tr>\n",
       "      <th>Miami Dolphins</th>\n",
       "      <td>22.642369</td>\n",
       "    </tr>\n",
       "    <tr>\n",
       "      <th>Cincinnati Bengals</th>\n",
       "      <td>22.651220</td>\n",
       "    </tr>\n",
       "    <tr>\n",
       "      <th>Kansas City Chiefs</th>\n",
       "      <td>23.032634</td>\n",
       "    </tr>\n",
       "    <tr>\n",
       "      <th>Los Angeles Chargers</th>\n",
       "      <td>23.119438</td>\n",
       "    </tr>\n",
       "    <tr>\n",
       "      <th>Las Vegas Raiders</th>\n",
       "      <td>23.256818</td>\n",
       "    </tr>\n",
       "    <tr>\n",
       "      <th>Minnesota Vikings</th>\n",
       "      <td>23.288636</td>\n",
       "    </tr>\n",
       "    <tr>\n",
       "      <th>Los Angeles Rams</th>\n",
       "      <td>23.320276</td>\n",
       "    </tr>\n",
       "    <tr>\n",
       "      <th>Green Bay Packers</th>\n",
       "      <td>23.503417</td>\n",
       "    </tr>\n",
       "    <tr>\n",
       "      <th>Seattle Seahawks</th>\n",
       "      <td>23.543175</td>\n",
       "    </tr>\n",
       "    <tr>\n",
       "      <th>Pittsburgh Steelers</th>\n",
       "      <td>23.637584</td>\n",
       "    </tr>\n",
       "    <tr>\n",
       "      <th>San Francisco 49ers</th>\n",
       "      <td>23.649667</td>\n",
       "    </tr>\n",
       "    <tr>\n",
       "      <th>New England Patriots</th>\n",
       "      <td>24.069351</td>\n",
       "    </tr>\n",
       "    <tr>\n",
       "      <th>Denver Broncos</th>\n",
       "      <td>24.070295</td>\n",
       "    </tr>\n",
       "    <tr>\n",
       "      <th>Baltimore Ravens</th>\n",
       "      <td>24.165000</td>\n",
       "    </tr>\n",
       "    <tr>\n",
       "      <th>Dallas Cowboys</th>\n",
       "      <td>25.011086</td>\n",
       "    </tr>\n",
       "  </tbody>\n",
       "</table>\n",
       "</div>"
      ],
      "text/plain": [
       "                      score_home\n",
       "team_home                       \n",
       "Tampa Bay Buccaneers   19.051282\n",
       "Cleveland Browns       19.410000\n",
       "Chicago Bears          20.348837\n",
       "New York Giants        21.032634\n",
       "Arizona Cardinals      21.045346\n",
       "New York Jets          21.064286\n",
       "Buffalo Bills          21.112412\n",
       "Jacksonville Jaguars   21.254902\n",
       "Philadelphia Eagles    21.347032\n",
       "Carolina Panthers      21.512077\n",
       "Atlanta Falcons        21.747045\n",
       "Tennessee Titans       21.780660\n",
       "Detroit Lions          21.805288\n",
       "Washington Redskins    22.044084\n",
       "New Orleans Saints     22.093079\n",
       "Houston Texans         22.320000\n",
       "Indianapolis Colts     22.504587\n",
       "Miami Dolphins         22.642369\n",
       "Cincinnati Bengals     22.651220\n",
       "Kansas City Chiefs     23.032634\n",
       "Los Angeles Chargers   23.119438\n",
       "Las Vegas Raiders      23.256818\n",
       "Minnesota Vikings      23.288636\n",
       "Los Angeles Rams       23.320276\n",
       "Green Bay Packers      23.503417\n",
       "Seattle Seahawks       23.543175\n",
       "Pittsburgh Steelers    23.637584\n",
       "San Francisco 49ers    23.649667\n",
       "New England Patriots   24.069351\n",
       "Denver Broncos         24.070295\n",
       "Baltimore Ravens       24.165000\n",
       "Dallas Cowboys         25.011086"
      ]
     },
     "execution_count": 47,
     "metadata": {},
     "output_type": "execute_result"
    }
   ],
   "source": [
    "home_points_df"
   ]
  },
  {
   "cell_type": "code",
   "execution_count": 48,
   "metadata": {},
   "outputs": [
    {
     "data": {
      "text/html": [
       "<div>\n",
       "<style scoped>\n",
       "    .dataframe tbody tr th:only-of-type {\n",
       "        vertical-align: middle;\n",
       "    }\n",
       "\n",
       "    .dataframe tbody tr th {\n",
       "        vertical-align: top;\n",
       "    }\n",
       "\n",
       "    .dataframe thead th {\n",
       "        text-align: right;\n",
       "    }\n",
       "</style>\n",
       "<table border=\"1\" class=\"dataframe\">\n",
       "  <thead>\n",
       "    <tr style=\"text-align: right;\">\n",
       "      <th></th>\n",
       "      <th>score_away</th>\n",
       "    </tr>\n",
       "    <tr>\n",
       "      <th>team_away</th>\n",
       "      <th></th>\n",
       "    </tr>\n",
       "  </thead>\n",
       "  <tbody>\n",
       "    <tr>\n",
       "      <th>Tampa Bay Buccaneers</th>\n",
       "      <td>17.218130</td>\n",
       "    </tr>\n",
       "    <tr>\n",
       "      <th>Chicago Bears</th>\n",
       "      <td>17.524823</td>\n",
       "    </tr>\n",
       "    <tr>\n",
       "      <th>Arizona Cardinals</th>\n",
       "      <td>17.990566</td>\n",
       "    </tr>\n",
       "    <tr>\n",
       "      <th>Detroit Lions</th>\n",
       "      <td>18.030516</td>\n",
       "    </tr>\n",
       "    <tr>\n",
       "      <th>Cleveland Browns</th>\n",
       "      <td>18.438903</td>\n",
       "    </tr>\n",
       "    <tr>\n",
       "      <th>Buffalo Bills</th>\n",
       "      <td>18.493023</td>\n",
       "    </tr>\n",
       "    <tr>\n",
       "      <th>Atlanta Falcons</th>\n",
       "      <td>18.611628</td>\n",
       "    </tr>\n",
       "    <tr>\n",
       "      <th>Cincinnati Bengals</th>\n",
       "      <td>18.697561</td>\n",
       "    </tr>\n",
       "    <tr>\n",
       "      <th>New York Giants</th>\n",
       "      <td>18.810185</td>\n",
       "    </tr>\n",
       "    <tr>\n",
       "      <th>Tennessee Titans</th>\n",
       "      <td>18.840909</td>\n",
       "    </tr>\n",
       "    <tr>\n",
       "      <th>New York Jets</th>\n",
       "      <td>19.105991</td>\n",
       "    </tr>\n",
       "    <tr>\n",
       "      <th>Jacksonville Jaguars</th>\n",
       "      <td>19.271429</td>\n",
       "    </tr>\n",
       "    <tr>\n",
       "      <th>Houston Texans</th>\n",
       "      <td>19.283784</td>\n",
       "    </tr>\n",
       "    <tr>\n",
       "      <th>Los Angeles Rams</th>\n",
       "      <td>19.475862</td>\n",
       "    </tr>\n",
       "    <tr>\n",
       "      <th>Seattle Seahawks</th>\n",
       "      <td>19.516484</td>\n",
       "    </tr>\n",
       "    <tr>\n",
       "      <th>Miami Dolphins</th>\n",
       "      <td>19.577726</td>\n",
       "    </tr>\n",
       "    <tr>\n",
       "      <th>Denver Broncos</th>\n",
       "      <td>19.865116</td>\n",
       "    </tr>\n",
       "    <tr>\n",
       "      <th>Baltimore Ravens</th>\n",
       "      <td>20.000000</td>\n",
       "    </tr>\n",
       "    <tr>\n",
       "      <th>Washington Redskins</th>\n",
       "      <td>20.027714</td>\n",
       "    </tr>\n",
       "    <tr>\n",
       "      <th>Las Vegas Raiders</th>\n",
       "      <td>20.101617</td>\n",
       "    </tr>\n",
       "    <tr>\n",
       "      <th>Pittsburgh Steelers</th>\n",
       "      <td>20.140271</td>\n",
       "    </tr>\n",
       "    <tr>\n",
       "      <th>Indianapolis Colts</th>\n",
       "      <td>20.231651</td>\n",
       "    </tr>\n",
       "    <tr>\n",
       "      <th>New Orleans Saints</th>\n",
       "      <td>20.314149</td>\n",
       "    </tr>\n",
       "    <tr>\n",
       "      <th>Philadelphia Eagles</th>\n",
       "      <td>20.481481</td>\n",
       "    </tr>\n",
       "    <tr>\n",
       "      <th>Kansas City Chiefs</th>\n",
       "      <td>20.540603</td>\n",
       "    </tr>\n",
       "    <tr>\n",
       "      <th>Minnesota Vikings</th>\n",
       "      <td>20.552273</td>\n",
       "    </tr>\n",
       "    <tr>\n",
       "      <th>Green Bay Packers</th>\n",
       "      <td>20.723744</td>\n",
       "    </tr>\n",
       "    <tr>\n",
       "      <th>Los Angeles Chargers</th>\n",
       "      <td>20.730679</td>\n",
       "    </tr>\n",
       "    <tr>\n",
       "      <th>Dallas Cowboys</th>\n",
       "      <td>20.795918</td>\n",
       "    </tr>\n",
       "    <tr>\n",
       "      <th>Carolina Panthers</th>\n",
       "      <td>20.876190</td>\n",
       "    </tr>\n",
       "    <tr>\n",
       "      <th>New England Patriots</th>\n",
       "      <td>21.326484</td>\n",
       "    </tr>\n",
       "    <tr>\n",
       "      <th>San Francisco 49ers</th>\n",
       "      <td>21.453488</td>\n",
       "    </tr>\n",
       "  </tbody>\n",
       "</table>\n",
       "</div>"
      ],
      "text/plain": [
       "                      score_away\n",
       "team_away                       \n",
       "Tampa Bay Buccaneers   17.218130\n",
       "Chicago Bears          17.524823\n",
       "Arizona Cardinals      17.990566\n",
       "Detroit Lions          18.030516\n",
       "Cleveland Browns       18.438903\n",
       "Buffalo Bills          18.493023\n",
       "Atlanta Falcons        18.611628\n",
       "Cincinnati Bengals     18.697561\n",
       "New York Giants        18.810185\n",
       "Tennessee Titans       18.840909\n",
       "New York Jets          19.105991\n",
       "Jacksonville Jaguars   19.271429\n",
       "Houston Texans         19.283784\n",
       "Los Angeles Rams       19.475862\n",
       "Seattle Seahawks       19.516484\n",
       "Miami Dolphins         19.577726\n",
       "Denver Broncos         19.865116\n",
       "Baltimore Ravens       20.000000\n",
       "Washington Redskins    20.027714\n",
       "Las Vegas Raiders      20.101617\n",
       "Pittsburgh Steelers    20.140271\n",
       "Indianapolis Colts     20.231651\n",
       "New Orleans Saints     20.314149\n",
       "Philadelphia Eagles    20.481481\n",
       "Kansas City Chiefs     20.540603\n",
       "Minnesota Vikings      20.552273\n",
       "Green Bay Packers      20.723744\n",
       "Los Angeles Chargers   20.730679\n",
       "Dallas Cowboys         20.795918\n",
       "Carolina Panthers      20.876190\n",
       "New England Patriots   21.326484\n",
       "San Francisco 49ers    21.453488"
      ]
     },
     "execution_count": 48,
     "metadata": {},
     "output_type": "execute_result"
    }
   ],
   "source": [
    "away_points_df"
   ]
  },
  {
   "cell_type": "code",
   "execution_count": 49,
   "metadata": {},
   "outputs": [
    {
     "data": {
      "text/html": [
       "<div>\n",
       "<style scoped>\n",
       "    .dataframe tbody tr th:only-of-type {\n",
       "        vertical-align: middle;\n",
       "    }\n",
       "\n",
       "    .dataframe tbody tr th {\n",
       "        vertical-align: top;\n",
       "    }\n",
       "\n",
       "    .dataframe thead th {\n",
       "        text-align: right;\n",
       "    }\n",
       "</style>\n",
       "<table border=\"1\" class=\"dataframe\">\n",
       "  <thead>\n",
       "    <tr style=\"text-align: right;\">\n",
       "      <th></th>\n",
       "      <th>score_home</th>\n",
       "      <th>score_away</th>\n",
       "      <th>team_home</th>\n",
       "      <th>home_label</th>\n",
       "    </tr>\n",
       "  </thead>\n",
       "  <tbody>\n",
       "    <tr>\n",
       "      <th>0</th>\n",
       "      <td>19.051282</td>\n",
       "      <td>17.218130</td>\n",
       "      <td>Tampa Bay Buccaneers</td>\n",
       "      <td>TB</td>\n",
       "    </tr>\n",
       "    <tr>\n",
       "      <th>1</th>\n",
       "      <td>19.410000</td>\n",
       "      <td>18.438903</td>\n",
       "      <td>Cleveland Browns</td>\n",
       "      <td>CLE</td>\n",
       "    </tr>\n",
       "    <tr>\n",
       "      <th>2</th>\n",
       "      <td>20.348837</td>\n",
       "      <td>17.524823</td>\n",
       "      <td>Chicago Bears</td>\n",
       "      <td>CHI</td>\n",
       "    </tr>\n",
       "    <tr>\n",
       "      <th>3</th>\n",
       "      <td>21.032634</td>\n",
       "      <td>18.810185</td>\n",
       "      <td>New York Giants</td>\n",
       "      <td>NYG</td>\n",
       "    </tr>\n",
       "    <tr>\n",
       "      <th>4</th>\n",
       "      <td>21.045346</td>\n",
       "      <td>17.990566</td>\n",
       "      <td>Arizona Cardinals</td>\n",
       "      <td>ARI</td>\n",
       "    </tr>\n",
       "  </tbody>\n",
       "</table>\n",
       "</div>"
      ],
      "text/plain": [
       "   score_home  score_away             team_home home_label\n",
       "0   19.051282   17.218130  Tampa Bay Buccaneers         TB\n",
       "1   19.410000   18.438903      Cleveland Browns        CLE\n",
       "2   20.348837   17.524823         Chicago Bears        CHI\n",
       "3   21.032634   18.810185       New York Giants        NYG\n",
       "4   21.045346   17.990566     Arizona Cardinals        ARI"
      ]
     },
     "execution_count": 49,
     "metadata": {},
     "output_type": "execute_result"
    }
   ],
   "source": [
    "#Join home and away\n",
    "team_points_df = pd.merge(home_points_df, away_points_df, left_index=True, right_index=True)\n",
    "team_points_df['team_home'] = team_points_df.index\n",
    "team_points_df = pd.merge(team_points_df, labels_df, on=[\"team_home\", \"team_home\"])\n",
    "team_points_df.head()"
   ]
  },
  {
   "cell_type": "code",
   "execution_count": 50,
   "metadata": {},
   "outputs": [
    {
     "data": {
      "application/vnd.plotly.v1+json": {
       "config": {
        "plotlyServerURL": "https://plot.ly"
       },
       "data": [
        {
         "marker": {
          "color": "rgba(48, 217, 189, 1)"
         },
         "mode": "markers+text",
         "name": "points away",
         "text": [
          "TB",
          "CLE",
          "CHI",
          "NYG",
          "ARI",
          "NYJ",
          "BUF",
          "JAX",
          "PHI",
          "CAR",
          "ATL",
          "TEN",
          "DET",
          "WAS",
          "NO",
          "HOU",
          "IND",
          "MIA",
          "CIN",
          "KC",
          "LAC",
          "LV",
          "MIN",
          "LAR",
          "GB",
          "SEA",
          "PIT",
          "SF",
          "NE",
          "DEN",
          "BAL",
          "DAL"
         ],
         "type": "scatter",
         "x": [
          19.05128205128205,
          19.41,
          20.348837209302324,
          21.032634032634032,
          21.045346062052506,
          21.064285714285713,
          21.11241217798595,
          21.254901960784313,
          21.347031963470318,
          21.51207729468599,
          21.747044917257682,
          21.78066037735849,
          21.80528846153846,
          22.044083526682133,
          22.09307875894988,
          22.32,
          22.504587155963304,
          22.64236902050114,
          22.651219512195123,
          23.032634032634032,
          23.11943793911007,
          23.256818181818183,
          23.288636363636364,
          23.320276497695854,
          23.503416856492027,
          23.54317548746518,
          23.63758389261745,
          23.649667405764966,
          24.069351230425056,
          24.070294784580497,
          24.165,
          25.01108647450111
         ],
         "y": [
          17.218130311614733,
          18.438902743142144,
          17.52482269503546,
          18.810185185185187,
          17.99056603773585,
          19.10599078341014,
          18.493023255813952,
          19.271428571428572,
          20.48148148148148,
          20.876190476190477,
          18.611627906976743,
          18.84090909090909,
          18.030516431924884,
          20.02771362586605,
          20.314148681055155,
          19.283783783783782,
          20.23165137614679,
          19.577726218097446,
          18.697560975609758,
          20.54060324825986,
          20.730679156908664,
          20.10161662817552,
          20.552272727272726,
          19.47586206896552,
          20.72374429223744,
          19.516483516483518,
          20.14027149321267,
          21.453488372093023,
          21.32648401826484,
          19.865116279069767,
          20,
          20.79591836734694
         ]
        }
       ],
       "layout": {
        "plot_bgcolor": "white",
        "template": {
         "data": {
          "bar": [
           {
            "error_x": {
             "color": "#2a3f5f"
            },
            "error_y": {
             "color": "#2a3f5f"
            },
            "marker": {
             "line": {
              "color": "#E5ECF6",
              "width": 0.5
             }
            },
            "type": "bar"
           }
          ],
          "barpolar": [
           {
            "marker": {
             "line": {
              "color": "#E5ECF6",
              "width": 0.5
             }
            },
            "type": "barpolar"
           }
          ],
          "carpet": [
           {
            "aaxis": {
             "endlinecolor": "#2a3f5f",
             "gridcolor": "white",
             "linecolor": "white",
             "minorgridcolor": "white",
             "startlinecolor": "#2a3f5f"
            },
            "baxis": {
             "endlinecolor": "#2a3f5f",
             "gridcolor": "white",
             "linecolor": "white",
             "minorgridcolor": "white",
             "startlinecolor": "#2a3f5f"
            },
            "type": "carpet"
           }
          ],
          "choropleth": [
           {
            "colorbar": {
             "outlinewidth": 0,
             "ticks": ""
            },
            "type": "choropleth"
           }
          ],
          "contour": [
           {
            "colorbar": {
             "outlinewidth": 0,
             "ticks": ""
            },
            "colorscale": [
             [
              0,
              "#0d0887"
             ],
             [
              0.1111111111111111,
              "#46039f"
             ],
             [
              0.2222222222222222,
              "#7201a8"
             ],
             [
              0.3333333333333333,
              "#9c179e"
             ],
             [
              0.4444444444444444,
              "#bd3786"
             ],
             [
              0.5555555555555556,
              "#d8576b"
             ],
             [
              0.6666666666666666,
              "#ed7953"
             ],
             [
              0.7777777777777778,
              "#fb9f3a"
             ],
             [
              0.8888888888888888,
              "#fdca26"
             ],
             [
              1,
              "#f0f921"
             ]
            ],
            "type": "contour"
           }
          ],
          "contourcarpet": [
           {
            "colorbar": {
             "outlinewidth": 0,
             "ticks": ""
            },
            "type": "contourcarpet"
           }
          ],
          "heatmap": [
           {
            "colorbar": {
             "outlinewidth": 0,
             "ticks": ""
            },
            "colorscale": [
             [
              0,
              "#0d0887"
             ],
             [
              0.1111111111111111,
              "#46039f"
             ],
             [
              0.2222222222222222,
              "#7201a8"
             ],
             [
              0.3333333333333333,
              "#9c179e"
             ],
             [
              0.4444444444444444,
              "#bd3786"
             ],
             [
              0.5555555555555556,
              "#d8576b"
             ],
             [
              0.6666666666666666,
              "#ed7953"
             ],
             [
              0.7777777777777778,
              "#fb9f3a"
             ],
             [
              0.8888888888888888,
              "#fdca26"
             ],
             [
              1,
              "#f0f921"
             ]
            ],
            "type": "heatmap"
           }
          ],
          "heatmapgl": [
           {
            "colorbar": {
             "outlinewidth": 0,
             "ticks": ""
            },
            "colorscale": [
             [
              0,
              "#0d0887"
             ],
             [
              0.1111111111111111,
              "#46039f"
             ],
             [
              0.2222222222222222,
              "#7201a8"
             ],
             [
              0.3333333333333333,
              "#9c179e"
             ],
             [
              0.4444444444444444,
              "#bd3786"
             ],
             [
              0.5555555555555556,
              "#d8576b"
             ],
             [
              0.6666666666666666,
              "#ed7953"
             ],
             [
              0.7777777777777778,
              "#fb9f3a"
             ],
             [
              0.8888888888888888,
              "#fdca26"
             ],
             [
              1,
              "#f0f921"
             ]
            ],
            "type": "heatmapgl"
           }
          ],
          "histogram": [
           {
            "marker": {
             "colorbar": {
              "outlinewidth": 0,
              "ticks": ""
             }
            },
            "type": "histogram"
           }
          ],
          "histogram2d": [
           {
            "colorbar": {
             "outlinewidth": 0,
             "ticks": ""
            },
            "colorscale": [
             [
              0,
              "#0d0887"
             ],
             [
              0.1111111111111111,
              "#46039f"
             ],
             [
              0.2222222222222222,
              "#7201a8"
             ],
             [
              0.3333333333333333,
              "#9c179e"
             ],
             [
              0.4444444444444444,
              "#bd3786"
             ],
             [
              0.5555555555555556,
              "#d8576b"
             ],
             [
              0.6666666666666666,
              "#ed7953"
             ],
             [
              0.7777777777777778,
              "#fb9f3a"
             ],
             [
              0.8888888888888888,
              "#fdca26"
             ],
             [
              1,
              "#f0f921"
             ]
            ],
            "type": "histogram2d"
           }
          ],
          "histogram2dcontour": [
           {
            "colorbar": {
             "outlinewidth": 0,
             "ticks": ""
            },
            "colorscale": [
             [
              0,
              "#0d0887"
             ],
             [
              0.1111111111111111,
              "#46039f"
             ],
             [
              0.2222222222222222,
              "#7201a8"
             ],
             [
              0.3333333333333333,
              "#9c179e"
             ],
             [
              0.4444444444444444,
              "#bd3786"
             ],
             [
              0.5555555555555556,
              "#d8576b"
             ],
             [
              0.6666666666666666,
              "#ed7953"
             ],
             [
              0.7777777777777778,
              "#fb9f3a"
             ],
             [
              0.8888888888888888,
              "#fdca26"
             ],
             [
              1,
              "#f0f921"
             ]
            ],
            "type": "histogram2dcontour"
           }
          ],
          "mesh3d": [
           {
            "colorbar": {
             "outlinewidth": 0,
             "ticks": ""
            },
            "type": "mesh3d"
           }
          ],
          "parcoords": [
           {
            "line": {
             "colorbar": {
              "outlinewidth": 0,
              "ticks": ""
             }
            },
            "type": "parcoords"
           }
          ],
          "pie": [
           {
            "automargin": true,
            "type": "pie"
           }
          ],
          "scatter": [
           {
            "marker": {
             "colorbar": {
              "outlinewidth": 0,
              "ticks": ""
             }
            },
            "type": "scatter"
           }
          ],
          "scatter3d": [
           {
            "line": {
             "colorbar": {
              "outlinewidth": 0,
              "ticks": ""
             }
            },
            "marker": {
             "colorbar": {
              "outlinewidth": 0,
              "ticks": ""
             }
            },
            "type": "scatter3d"
           }
          ],
          "scattercarpet": [
           {
            "marker": {
             "colorbar": {
              "outlinewidth": 0,
              "ticks": ""
             }
            },
            "type": "scattercarpet"
           }
          ],
          "scattergeo": [
           {
            "marker": {
             "colorbar": {
              "outlinewidth": 0,
              "ticks": ""
             }
            },
            "type": "scattergeo"
           }
          ],
          "scattergl": [
           {
            "marker": {
             "colorbar": {
              "outlinewidth": 0,
              "ticks": ""
             }
            },
            "type": "scattergl"
           }
          ],
          "scattermapbox": [
           {
            "marker": {
             "colorbar": {
              "outlinewidth": 0,
              "ticks": ""
             }
            },
            "type": "scattermapbox"
           }
          ],
          "scatterpolar": [
           {
            "marker": {
             "colorbar": {
              "outlinewidth": 0,
              "ticks": ""
             }
            },
            "type": "scatterpolar"
           }
          ],
          "scatterpolargl": [
           {
            "marker": {
             "colorbar": {
              "outlinewidth": 0,
              "ticks": ""
             }
            },
            "type": "scatterpolargl"
           }
          ],
          "scatterternary": [
           {
            "marker": {
             "colorbar": {
              "outlinewidth": 0,
              "ticks": ""
             }
            },
            "type": "scatterternary"
           }
          ],
          "surface": [
           {
            "colorbar": {
             "outlinewidth": 0,
             "ticks": ""
            },
            "colorscale": [
             [
              0,
              "#0d0887"
             ],
             [
              0.1111111111111111,
              "#46039f"
             ],
             [
              0.2222222222222222,
              "#7201a8"
             ],
             [
              0.3333333333333333,
              "#9c179e"
             ],
             [
              0.4444444444444444,
              "#bd3786"
             ],
             [
              0.5555555555555556,
              "#d8576b"
             ],
             [
              0.6666666666666666,
              "#ed7953"
             ],
             [
              0.7777777777777778,
              "#fb9f3a"
             ],
             [
              0.8888888888888888,
              "#fdca26"
             ],
             [
              1,
              "#f0f921"
             ]
            ],
            "type": "surface"
           }
          ],
          "table": [
           {
            "cells": {
             "fill": {
              "color": "#EBF0F8"
             },
             "line": {
              "color": "white"
             }
            },
            "header": {
             "fill": {
              "color": "#C8D4E3"
             },
             "line": {
              "color": "white"
             }
            },
            "type": "table"
           }
          ]
         },
         "layout": {
          "annotationdefaults": {
           "arrowcolor": "#2a3f5f",
           "arrowhead": 0,
           "arrowwidth": 1
          },
          "coloraxis": {
           "colorbar": {
            "outlinewidth": 0,
            "ticks": ""
           }
          },
          "colorscale": {
           "diverging": [
            [
             0,
             "#8e0152"
            ],
            [
             0.1,
             "#c51b7d"
            ],
            [
             0.2,
             "#de77ae"
            ],
            [
             0.3,
             "#f1b6da"
            ],
            [
             0.4,
             "#fde0ef"
            ],
            [
             0.5,
             "#f7f7f7"
            ],
            [
             0.6,
             "#e6f5d0"
            ],
            [
             0.7,
             "#b8e186"
            ],
            [
             0.8,
             "#7fbc41"
            ],
            [
             0.9,
             "#4d9221"
            ],
            [
             1,
             "#276419"
            ]
           ],
           "sequential": [
            [
             0,
             "#0d0887"
            ],
            [
             0.1111111111111111,
             "#46039f"
            ],
            [
             0.2222222222222222,
             "#7201a8"
            ],
            [
             0.3333333333333333,
             "#9c179e"
            ],
            [
             0.4444444444444444,
             "#bd3786"
            ],
            [
             0.5555555555555556,
             "#d8576b"
            ],
            [
             0.6666666666666666,
             "#ed7953"
            ],
            [
             0.7777777777777778,
             "#fb9f3a"
            ],
            [
             0.8888888888888888,
             "#fdca26"
            ],
            [
             1,
             "#f0f921"
            ]
           ],
           "sequentialminus": [
            [
             0,
             "#0d0887"
            ],
            [
             0.1111111111111111,
             "#46039f"
            ],
            [
             0.2222222222222222,
             "#7201a8"
            ],
            [
             0.3333333333333333,
             "#9c179e"
            ],
            [
             0.4444444444444444,
             "#bd3786"
            ],
            [
             0.5555555555555556,
             "#d8576b"
            ],
            [
             0.6666666666666666,
             "#ed7953"
            ],
            [
             0.7777777777777778,
             "#fb9f3a"
            ],
            [
             0.8888888888888888,
             "#fdca26"
            ],
            [
             1,
             "#f0f921"
            ]
           ]
          },
          "colorway": [
           "#636efa",
           "#EF553B",
           "#00cc96",
           "#ab63fa",
           "#FFA15A",
           "#19d3f3",
           "#FF6692",
           "#B6E880",
           "#FF97FF",
           "#FECB52"
          ],
          "font": {
           "color": "#2a3f5f"
          },
          "geo": {
           "bgcolor": "white",
           "lakecolor": "white",
           "landcolor": "#E5ECF6",
           "showlakes": true,
           "showland": true,
           "subunitcolor": "white"
          },
          "hoverlabel": {
           "align": "left"
          },
          "hovermode": "closest",
          "mapbox": {
           "style": "light"
          },
          "paper_bgcolor": "white",
          "plot_bgcolor": "#E5ECF6",
          "polar": {
           "angularaxis": {
            "gridcolor": "white",
            "linecolor": "white",
            "ticks": ""
           },
           "bgcolor": "#E5ECF6",
           "radialaxis": {
            "gridcolor": "white",
            "linecolor": "white",
            "ticks": ""
           }
          },
          "scene": {
           "xaxis": {
            "backgroundcolor": "#E5ECF6",
            "gridcolor": "white",
            "gridwidth": 2,
            "linecolor": "white",
            "showbackground": true,
            "ticks": "",
            "zerolinecolor": "white"
           },
           "yaxis": {
            "backgroundcolor": "#E5ECF6",
            "gridcolor": "white",
            "gridwidth": 2,
            "linecolor": "white",
            "showbackground": true,
            "ticks": "",
            "zerolinecolor": "white"
           },
           "zaxis": {
            "backgroundcolor": "#E5ECF6",
            "gridcolor": "white",
            "gridwidth": 2,
            "linecolor": "white",
            "showbackground": true,
            "ticks": "",
            "zerolinecolor": "white"
           }
          },
          "shapedefaults": {
           "line": {
            "color": "#2a3f5f"
           }
          },
          "ternary": {
           "aaxis": {
            "gridcolor": "white",
            "linecolor": "white",
            "ticks": ""
           },
           "baxis": {
            "gridcolor": "white",
            "linecolor": "white",
            "ticks": ""
           },
           "bgcolor": "#E5ECF6",
           "caxis": {
            "gridcolor": "white",
            "linecolor": "white",
            "ticks": ""
           }
          },
          "title": {
           "x": 0.05
          },
          "xaxis": {
           "automargin": true,
           "gridcolor": "white",
           "linecolor": "white",
           "ticks": "",
           "title": {
            "standoff": 15
           },
           "zerolinecolor": "white",
           "zerolinewidth": 2
          },
          "yaxis": {
           "automargin": true,
           "gridcolor": "white",
           "linecolor": "white",
           "ticks": "",
           "title": {
            "standoff": 15
           },
           "zerolinecolor": "white",
           "zerolinewidth": 2
          }
         }
        },
        "xaxis": {
         "linecolor": "#d9d9d9",
         "mirror": true,
         "title": {
          "text": "Score Home"
         }
        },
        "yaxis": {
         "linecolor": "#d9d9d9",
         "mirror": true,
         "title": {
          "text": "Score Away"
         }
        }
       }
      },
      "text/html": [
       "<div>\n",
       "        \n",
       "        \n",
       "            <div id=\"70a670b4-57d8-4923-81b6-fd73518a6ba0\" class=\"plotly-graph-div\" style=\"height:525px; width:100%;\"></div>\n",
       "            <script type=\"text/javascript\">\n",
       "                require([\"plotly\"], function(Plotly) {\n",
       "                    window.PLOTLYENV=window.PLOTLYENV || {};\n",
       "                    \n",
       "                if (document.getElementById(\"70a670b4-57d8-4923-81b6-fd73518a6ba0\")) {\n",
       "                    Plotly.newPlot(\n",
       "                        '70a670b4-57d8-4923-81b6-fd73518a6ba0',\n",
       "                        [{\"marker\": {\"color\": \"rgba(48, 217, 189, 1)\"}, \"mode\": \"markers+text\", \"name\": \"points away\", \"text\": [\"TB\", \"CLE\", \"CHI\", \"NYG\", \"ARI\", \"NYJ\", \"BUF\", \"JAX\", \"PHI\", \"CAR\", \"ATL\", \"TEN\", \"DET\", \"WAS\", \"NO\", \"HOU\", \"IND\", \"MIA\", \"CIN\", \"KC\", \"LAC\", \"LV\", \"MIN\", \"LAR\", \"GB\", \"SEA\", \"PIT\", \"SF\", \"NE\", \"DEN\", \"BAL\", \"DAL\"], \"type\": \"scatter\", \"x\": [19.05128205128205, 19.41, 20.348837209302324, 21.032634032634032, 21.045346062052506, 21.064285714285713, 21.11241217798595, 21.254901960784313, 21.347031963470318, 21.51207729468599, 21.747044917257682, 21.78066037735849, 21.80528846153846, 22.044083526682133, 22.09307875894988, 22.32, 22.504587155963304, 22.64236902050114, 22.651219512195123, 23.032634032634032, 23.11943793911007, 23.256818181818183, 23.288636363636364, 23.320276497695854, 23.503416856492027, 23.54317548746518, 23.63758389261745, 23.649667405764966, 24.069351230425056, 24.070294784580497, 24.165, 25.01108647450111], \"y\": [17.218130311614733, 18.438902743142144, 17.52482269503546, 18.810185185185187, 17.99056603773585, 19.10599078341014, 18.493023255813952, 19.271428571428572, 20.48148148148148, 20.876190476190477, 18.611627906976743, 18.84090909090909, 18.030516431924884, 20.02771362586605, 20.314148681055155, 19.283783783783782, 20.23165137614679, 19.577726218097446, 18.697560975609758, 20.54060324825986, 20.730679156908664, 20.10161662817552, 20.552272727272726, 19.47586206896552, 20.72374429223744, 19.516483516483518, 20.14027149321267, 21.453488372093023, 21.32648401826484, 19.865116279069767, 20.0, 20.79591836734694]}],\n",
       "                        {\"plot_bgcolor\": \"white\", \"template\": {\"data\": {\"bar\": [{\"error_x\": {\"color\": \"#2a3f5f\"}, \"error_y\": {\"color\": \"#2a3f5f\"}, \"marker\": {\"line\": {\"color\": \"#E5ECF6\", \"width\": 0.5}}, \"type\": \"bar\"}], \"barpolar\": [{\"marker\": {\"line\": {\"color\": \"#E5ECF6\", \"width\": 0.5}}, \"type\": \"barpolar\"}], \"carpet\": [{\"aaxis\": {\"endlinecolor\": \"#2a3f5f\", \"gridcolor\": \"white\", \"linecolor\": \"white\", \"minorgridcolor\": \"white\", \"startlinecolor\": \"#2a3f5f\"}, \"baxis\": {\"endlinecolor\": \"#2a3f5f\", \"gridcolor\": \"white\", \"linecolor\": \"white\", \"minorgridcolor\": \"white\", \"startlinecolor\": \"#2a3f5f\"}, \"type\": \"carpet\"}], \"choropleth\": [{\"colorbar\": {\"outlinewidth\": 0, \"ticks\": \"\"}, \"type\": \"choropleth\"}], \"contour\": [{\"colorbar\": {\"outlinewidth\": 0, \"ticks\": \"\"}, \"colorscale\": [[0.0, \"#0d0887\"], [0.1111111111111111, \"#46039f\"], [0.2222222222222222, \"#7201a8\"], [0.3333333333333333, \"#9c179e\"], [0.4444444444444444, \"#bd3786\"], [0.5555555555555556, \"#d8576b\"], [0.6666666666666666, \"#ed7953\"], [0.7777777777777778, \"#fb9f3a\"], [0.8888888888888888, \"#fdca26\"], [1.0, \"#f0f921\"]], \"type\": \"contour\"}], \"contourcarpet\": [{\"colorbar\": {\"outlinewidth\": 0, \"ticks\": \"\"}, \"type\": \"contourcarpet\"}], \"heatmap\": [{\"colorbar\": {\"outlinewidth\": 0, \"ticks\": \"\"}, \"colorscale\": [[0.0, \"#0d0887\"], [0.1111111111111111, \"#46039f\"], [0.2222222222222222, \"#7201a8\"], [0.3333333333333333, \"#9c179e\"], [0.4444444444444444, \"#bd3786\"], [0.5555555555555556, \"#d8576b\"], [0.6666666666666666, \"#ed7953\"], [0.7777777777777778, \"#fb9f3a\"], [0.8888888888888888, \"#fdca26\"], [1.0, \"#f0f921\"]], \"type\": \"heatmap\"}], \"heatmapgl\": [{\"colorbar\": {\"outlinewidth\": 0, \"ticks\": \"\"}, \"colorscale\": [[0.0, \"#0d0887\"], [0.1111111111111111, \"#46039f\"], [0.2222222222222222, \"#7201a8\"], [0.3333333333333333, \"#9c179e\"], [0.4444444444444444, \"#bd3786\"], [0.5555555555555556, \"#d8576b\"], [0.6666666666666666, \"#ed7953\"], [0.7777777777777778, \"#fb9f3a\"], [0.8888888888888888, \"#fdca26\"], [1.0, \"#f0f921\"]], \"type\": \"heatmapgl\"}], \"histogram\": [{\"marker\": {\"colorbar\": {\"outlinewidth\": 0, \"ticks\": \"\"}}, \"type\": \"histogram\"}], \"histogram2d\": [{\"colorbar\": {\"outlinewidth\": 0, \"ticks\": \"\"}, \"colorscale\": [[0.0, \"#0d0887\"], [0.1111111111111111, \"#46039f\"], [0.2222222222222222, \"#7201a8\"], [0.3333333333333333, \"#9c179e\"], [0.4444444444444444, \"#bd3786\"], [0.5555555555555556, \"#d8576b\"], [0.6666666666666666, \"#ed7953\"], [0.7777777777777778, \"#fb9f3a\"], [0.8888888888888888, \"#fdca26\"], [1.0, \"#f0f921\"]], \"type\": \"histogram2d\"}], \"histogram2dcontour\": [{\"colorbar\": {\"outlinewidth\": 0, \"ticks\": \"\"}, \"colorscale\": [[0.0, \"#0d0887\"], [0.1111111111111111, \"#46039f\"], [0.2222222222222222, \"#7201a8\"], [0.3333333333333333, \"#9c179e\"], [0.4444444444444444, \"#bd3786\"], [0.5555555555555556, \"#d8576b\"], [0.6666666666666666, \"#ed7953\"], [0.7777777777777778, \"#fb9f3a\"], [0.8888888888888888, \"#fdca26\"], [1.0, \"#f0f921\"]], \"type\": \"histogram2dcontour\"}], \"mesh3d\": [{\"colorbar\": {\"outlinewidth\": 0, \"ticks\": \"\"}, \"type\": \"mesh3d\"}], \"parcoords\": [{\"line\": {\"colorbar\": {\"outlinewidth\": 0, \"ticks\": \"\"}}, \"type\": \"parcoords\"}], \"pie\": [{\"automargin\": true, \"type\": \"pie\"}], \"scatter\": [{\"marker\": {\"colorbar\": {\"outlinewidth\": 0, \"ticks\": \"\"}}, \"type\": \"scatter\"}], \"scatter3d\": [{\"line\": {\"colorbar\": {\"outlinewidth\": 0, \"ticks\": \"\"}}, \"marker\": {\"colorbar\": {\"outlinewidth\": 0, \"ticks\": \"\"}}, \"type\": \"scatter3d\"}], \"scattercarpet\": [{\"marker\": {\"colorbar\": {\"outlinewidth\": 0, \"ticks\": \"\"}}, \"type\": \"scattercarpet\"}], \"scattergeo\": [{\"marker\": {\"colorbar\": {\"outlinewidth\": 0, \"ticks\": \"\"}}, \"type\": \"scattergeo\"}], \"scattergl\": [{\"marker\": {\"colorbar\": {\"outlinewidth\": 0, \"ticks\": \"\"}}, \"type\": \"scattergl\"}], \"scattermapbox\": [{\"marker\": {\"colorbar\": {\"outlinewidth\": 0, \"ticks\": \"\"}}, \"type\": \"scattermapbox\"}], \"scatterpolar\": [{\"marker\": {\"colorbar\": {\"outlinewidth\": 0, \"ticks\": \"\"}}, \"type\": \"scatterpolar\"}], \"scatterpolargl\": [{\"marker\": {\"colorbar\": {\"outlinewidth\": 0, \"ticks\": \"\"}}, \"type\": \"scatterpolargl\"}], \"scatterternary\": [{\"marker\": {\"colorbar\": {\"outlinewidth\": 0, \"ticks\": \"\"}}, \"type\": \"scatterternary\"}], \"surface\": [{\"colorbar\": {\"outlinewidth\": 0, \"ticks\": \"\"}, \"colorscale\": [[0.0, \"#0d0887\"], [0.1111111111111111, \"#46039f\"], [0.2222222222222222, \"#7201a8\"], [0.3333333333333333, \"#9c179e\"], [0.4444444444444444, \"#bd3786\"], [0.5555555555555556, \"#d8576b\"], [0.6666666666666666, \"#ed7953\"], [0.7777777777777778, \"#fb9f3a\"], [0.8888888888888888, \"#fdca26\"], [1.0, \"#f0f921\"]], \"type\": \"surface\"}], \"table\": [{\"cells\": {\"fill\": {\"color\": \"#EBF0F8\"}, \"line\": {\"color\": \"white\"}}, \"header\": {\"fill\": {\"color\": \"#C8D4E3\"}, \"line\": {\"color\": \"white\"}}, \"type\": \"table\"}]}, \"layout\": {\"annotationdefaults\": {\"arrowcolor\": \"#2a3f5f\", \"arrowhead\": 0, \"arrowwidth\": 1}, \"coloraxis\": {\"colorbar\": {\"outlinewidth\": 0, \"ticks\": \"\"}}, \"colorscale\": {\"diverging\": [[0, \"#8e0152\"], [0.1, \"#c51b7d\"], [0.2, \"#de77ae\"], [0.3, \"#f1b6da\"], [0.4, \"#fde0ef\"], [0.5, \"#f7f7f7\"], [0.6, \"#e6f5d0\"], [0.7, \"#b8e186\"], [0.8, \"#7fbc41\"], [0.9, \"#4d9221\"], [1, \"#276419\"]], \"sequential\": [[0.0, \"#0d0887\"], [0.1111111111111111, \"#46039f\"], [0.2222222222222222, \"#7201a8\"], [0.3333333333333333, \"#9c179e\"], [0.4444444444444444, \"#bd3786\"], [0.5555555555555556, \"#d8576b\"], [0.6666666666666666, \"#ed7953\"], [0.7777777777777778, \"#fb9f3a\"], [0.8888888888888888, \"#fdca26\"], [1.0, \"#f0f921\"]], \"sequentialminus\": [[0.0, \"#0d0887\"], [0.1111111111111111, \"#46039f\"], [0.2222222222222222, \"#7201a8\"], [0.3333333333333333, \"#9c179e\"], [0.4444444444444444, \"#bd3786\"], [0.5555555555555556, \"#d8576b\"], [0.6666666666666666, \"#ed7953\"], [0.7777777777777778, \"#fb9f3a\"], [0.8888888888888888, \"#fdca26\"], [1.0, \"#f0f921\"]]}, \"colorway\": [\"#636efa\", \"#EF553B\", \"#00cc96\", \"#ab63fa\", \"#FFA15A\", \"#19d3f3\", \"#FF6692\", \"#B6E880\", \"#FF97FF\", \"#FECB52\"], \"font\": {\"color\": \"#2a3f5f\"}, \"geo\": {\"bgcolor\": \"white\", \"lakecolor\": \"white\", \"landcolor\": \"#E5ECF6\", \"showlakes\": true, \"showland\": true, \"subunitcolor\": \"white\"}, \"hoverlabel\": {\"align\": \"left\"}, \"hovermode\": \"closest\", \"mapbox\": {\"style\": \"light\"}, \"paper_bgcolor\": \"white\", \"plot_bgcolor\": \"#E5ECF6\", \"polar\": {\"angularaxis\": {\"gridcolor\": \"white\", \"linecolor\": \"white\", \"ticks\": \"\"}, \"bgcolor\": \"#E5ECF6\", \"radialaxis\": {\"gridcolor\": \"white\", \"linecolor\": \"white\", \"ticks\": \"\"}}, \"scene\": {\"xaxis\": {\"backgroundcolor\": \"#E5ECF6\", \"gridcolor\": \"white\", \"gridwidth\": 2, \"linecolor\": \"white\", \"showbackground\": true, \"ticks\": \"\", \"zerolinecolor\": \"white\"}, \"yaxis\": {\"backgroundcolor\": \"#E5ECF6\", \"gridcolor\": \"white\", \"gridwidth\": 2, \"linecolor\": \"white\", \"showbackground\": true, \"ticks\": \"\", \"zerolinecolor\": \"white\"}, \"zaxis\": {\"backgroundcolor\": \"#E5ECF6\", \"gridcolor\": \"white\", \"gridwidth\": 2, \"linecolor\": \"white\", \"showbackground\": true, \"ticks\": \"\", \"zerolinecolor\": \"white\"}}, \"shapedefaults\": {\"line\": {\"color\": \"#2a3f5f\"}}, \"ternary\": {\"aaxis\": {\"gridcolor\": \"white\", \"linecolor\": \"white\", \"ticks\": \"\"}, \"baxis\": {\"gridcolor\": \"white\", \"linecolor\": \"white\", \"ticks\": \"\"}, \"bgcolor\": \"#E5ECF6\", \"caxis\": {\"gridcolor\": \"white\", \"linecolor\": \"white\", \"ticks\": \"\"}}, \"title\": {\"x\": 0.05}, \"xaxis\": {\"automargin\": true, \"gridcolor\": \"white\", \"linecolor\": \"white\", \"ticks\": \"\", \"title\": {\"standoff\": 15}, \"zerolinecolor\": \"white\", \"zerolinewidth\": 2}, \"yaxis\": {\"automargin\": true, \"gridcolor\": \"white\", \"linecolor\": \"white\", \"ticks\": \"\", \"title\": {\"standoff\": 15}, \"zerolinecolor\": \"white\", \"zerolinewidth\": 2}}}, \"xaxis\": {\"linecolor\": \"#d9d9d9\", \"mirror\": true, \"title\": {\"text\": \"Score Home\"}}, \"yaxis\": {\"linecolor\": \"#d9d9d9\", \"mirror\": true, \"title\": {\"text\": \"Score Away\"}}},\n",
       "                        {\"responsive\": true}\n",
       "                    ).then(function(){\n",
       "                            \n",
       "var gd = document.getElementById('70a670b4-57d8-4923-81b6-fd73518a6ba0');\n",
       "var x = new MutationObserver(function (mutations, observer) {{\n",
       "        var display = window.getComputedStyle(gd).display;\n",
       "        if (!display || display === 'none') {{\n",
       "            console.log([gd, 'removed!']);\n",
       "            Plotly.purge(gd);\n",
       "            observer.disconnect();\n",
       "        }}\n",
       "}});\n",
       "\n",
       "// Listen for the removal of the full notebook cells\n",
       "var notebookContainer = gd.closest('#notebook-container');\n",
       "if (notebookContainer) {{\n",
       "    x.observe(notebookContainer, {childList: true});\n",
       "}}\n",
       "\n",
       "// Listen for the clearing of the current output cell\n",
       "var outputEl = gd.closest('.output');\n",
       "if (outputEl) {{\n",
       "    x.observe(outputEl, {childList: true});\n",
       "}}\n",
       "\n",
       "                        })\n",
       "                };\n",
       "                });\n",
       "            </script>\n",
       "        </div>"
      ]
     },
     "metadata": {},
     "output_type": "display_data"
    }
   ],
   "source": [
    "# Build the scatter plots for teams' points at home and away.\n",
    "#plt.scatter(home_points_df, away_points_df)\n",
    "\n",
    "# Incorporate the other graph properties\n",
    "#plt.title(\"NFL Points Scored\", fontsize=20)\n",
    "#plt.ylabel(\"Points Away\", fontsize=12)\n",
    "#plt.xlabel(\"Points at Home\", fontsize=12)\n",
    "#plt.grid(True)\n",
    "\n",
    "\n",
    "# Label points with team \n",
    "import plotly.graph_objects as go\n",
    "\n",
    "layout = dict(plot_bgcolor='white', xaxis=dict(title='Score Home', linecolor='#d9d9d9', mirror=True),\n",
    "              yaxis=dict(title='Score Away', linecolor='#d9d9d9', mirror=True))\n",
    "\n",
    "data = go.Scatter(x=team_points_df['score_home'],\n",
    "                  y=team_points_df['score_away'],\n",
    "                  text=team_points_df['home_label'],\n",
    "                  mode='markers+text',\n",
    "                  marker=dict(color='rgba(48, 217, 189, 1)'),\n",
    "                  name='points away')\n",
    "\n",
    "fig = go.Figure(data=data, layout=layout)\n",
    "fig.show()"
   ]
  },
  {
   "cell_type": "code",
   "execution_count": 51,
   "metadata": {},
   "outputs": [
    {
     "data": {
      "text/plain": [
       "['schedule_date',\n",
       " 'schedule_season',\n",
       " 'schedule_week',\n",
       " 'schedule_playoff',\n",
       " 'team_home',\n",
       " 'score_home',\n",
       " 'score_away',\n",
       " 'team_away',\n",
       " 'team_favorite_id',\n",
       " 'spread_favorite',\n",
       " 'over_under_line',\n",
       " 'stadium',\n",
       " 'stadium_neutral',\n",
       " 'weather_temperature',\n",
       " 'weather_wind_mph',\n",
       " 'weather_humidity',\n",
       " 'weather_detail',\n",
       " 'home_label',\n",
       " 'away_label']"
      ]
     },
     "execution_count": 51,
     "metadata": {},
     "output_type": "execute_result"
    }
   ],
   "source": [
    "scores_df.columns.to_list()"
   ]
  },
  {
   "cell_type": "code",
   "execution_count": 52,
   "metadata": {},
   "outputs": [
    {
     "data": {
      "text/html": [
       "<div>\n",
       "<style scoped>\n",
       "    .dataframe tbody tr th:only-of-type {\n",
       "        vertical-align: middle;\n",
       "    }\n",
       "\n",
       "    .dataframe tbody tr th {\n",
       "        vertical-align: top;\n",
       "    }\n",
       "\n",
       "    .dataframe thead th {\n",
       "        text-align: right;\n",
       "    }\n",
       "</style>\n",
       "<table border=\"1\" class=\"dataframe\">\n",
       "  <thead>\n",
       "    <tr style=\"text-align: right;\">\n",
       "      <th></th>\n",
       "      <th>schedule_date</th>\n",
       "      <th>schedule_season</th>\n",
       "      <th>schedule_week</th>\n",
       "      <th>schedule_playoff</th>\n",
       "      <th>team_home</th>\n",
       "      <th>score_home</th>\n",
       "      <th>score_away</th>\n",
       "      <th>team_away</th>\n",
       "      <th>team_favorite_id</th>\n",
       "      <th>spread_favorite</th>\n",
       "      <th>over_under_line</th>\n",
       "      <th>stadium</th>\n",
       "      <th>stadium_neutral</th>\n",
       "      <th>weather_temperature</th>\n",
       "      <th>weather_wind_mph</th>\n",
       "      <th>weather_humidity</th>\n",
       "      <th>weather_detail</th>\n",
       "      <th>home_label</th>\n",
       "      <th>away_label</th>\n",
       "    </tr>\n",
       "  </thead>\n",
       "  <tbody>\n",
       "    <tr>\n",
       "      <th>170</th>\n",
       "      <td>01/15/1967</td>\n",
       "      <td>1966</td>\n",
       "      <td>Superbowl</td>\n",
       "      <td>True</td>\n",
       "      <td>Green Bay Packers</td>\n",
       "      <td>35</td>\n",
       "      <td>10</td>\n",
       "      <td>Kansas City Chiefs</td>\n",
       "      <td>GB</td>\n",
       "      <td>-14.0</td>\n",
       "      <td>NaN</td>\n",
       "      <td>Los Angeles Memorial Coliseum</td>\n",
       "      <td>True</td>\n",
       "      <td>54.0</td>\n",
       "      <td>7.0</td>\n",
       "      <td>90</td>\n",
       "      <td>NaN</td>\n",
       "      <td>GB</td>\n",
       "      <td>KC</td>\n",
       "    </tr>\n",
       "    <tr>\n",
       "      <th>350</th>\n",
       "      <td>01/14/1968</td>\n",
       "      <td>1967</td>\n",
       "      <td>Superbowl</td>\n",
       "      <td>True</td>\n",
       "      <td>Green Bay Packers</td>\n",
       "      <td>33</td>\n",
       "      <td>14</td>\n",
       "      <td>Las Vegas Raiders</td>\n",
       "      <td>GB</td>\n",
       "      <td>-13.5</td>\n",
       "      <td>43</td>\n",
       "      <td>Orange Bowl</td>\n",
       "      <td>True</td>\n",
       "      <td>60.0</td>\n",
       "      <td>12.0</td>\n",
       "      <td>74</td>\n",
       "      <td>NaN</td>\n",
       "      <td>GB</td>\n",
       "      <td>LV</td>\n",
       "    </tr>\n",
       "    <tr>\n",
       "      <th>538</th>\n",
       "      <td>01/12/1969</td>\n",
       "      <td>1968</td>\n",
       "      <td>Superbowl</td>\n",
       "      <td>True</td>\n",
       "      <td>Indianapolis Colts</td>\n",
       "      <td>7</td>\n",
       "      <td>16</td>\n",
       "      <td>New York Jets</td>\n",
       "      <td>IND</td>\n",
       "      <td>-18.0</td>\n",
       "      <td>40</td>\n",
       "      <td>Orange Bowl</td>\n",
       "      <td>True</td>\n",
       "      <td>66.0</td>\n",
       "      <td>12.0</td>\n",
       "      <td>80</td>\n",
       "      <td>NaN</td>\n",
       "      <td>IND</td>\n",
       "      <td>NYJ</td>\n",
       "    </tr>\n",
       "    <tr>\n",
       "      <th>727</th>\n",
       "      <td>01/11/1970</td>\n",
       "      <td>1969</td>\n",
       "      <td>Superbowl</td>\n",
       "      <td>True</td>\n",
       "      <td>Kansas City Chiefs</td>\n",
       "      <td>23</td>\n",
       "      <td>7</td>\n",
       "      <td>Minnesota Vikings</td>\n",
       "      <td>MIN</td>\n",
       "      <td>-12.0</td>\n",
       "      <td>39</td>\n",
       "      <td>Tulane Stadium</td>\n",
       "      <td>True</td>\n",
       "      <td>55.0</td>\n",
       "      <td>14.0</td>\n",
       "      <td>84</td>\n",
       "      <td>NaN</td>\n",
       "      <td>KC</td>\n",
       "      <td>MIN</td>\n",
       "    </tr>\n",
       "    <tr>\n",
       "      <th>916</th>\n",
       "      <td>01/17/1971</td>\n",
       "      <td>1970</td>\n",
       "      <td>Superbowl</td>\n",
       "      <td>True</td>\n",
       "      <td>Indianapolis Colts</td>\n",
       "      <td>16</td>\n",
       "      <td>13</td>\n",
       "      <td>Dallas Cowboys</td>\n",
       "      <td>IND</td>\n",
       "      <td>-2.5</td>\n",
       "      <td>36</td>\n",
       "      <td>Orange Bowl</td>\n",
       "      <td>True</td>\n",
       "      <td>59.0</td>\n",
       "      <td>11.0</td>\n",
       "      <td>60</td>\n",
       "      <td>NaN</td>\n",
       "      <td>IND</td>\n",
       "      <td>DAL</td>\n",
       "    </tr>\n",
       "  </tbody>\n",
       "</table>\n",
       "</div>"
      ],
      "text/plain": [
       "    schedule_date  schedule_season schedule_week  schedule_playoff  \\\n",
       "170    01/15/1967             1966     Superbowl              True   \n",
       "350    01/14/1968             1967     Superbowl              True   \n",
       "538    01/12/1969             1968     Superbowl              True   \n",
       "727    01/11/1970             1969     Superbowl              True   \n",
       "916    01/17/1971             1970     Superbowl              True   \n",
       "\n",
       "              team_home  score_home  score_away           team_away  \\\n",
       "170   Green Bay Packers          35          10  Kansas City Chiefs   \n",
       "350   Green Bay Packers          33          14   Las Vegas Raiders   \n",
       "538  Indianapolis Colts           7          16       New York Jets   \n",
       "727  Kansas City Chiefs          23           7   Minnesota Vikings   \n",
       "916  Indianapolis Colts          16          13      Dallas Cowboys   \n",
       "\n",
       "    team_favorite_id  spread_favorite over_under_line  \\\n",
       "170               GB            -14.0             NaN   \n",
       "350               GB            -13.5              43   \n",
       "538              IND            -18.0              40   \n",
       "727              MIN            -12.0              39   \n",
       "916              IND             -2.5              36   \n",
       "\n",
       "                           stadium  stadium_neutral  weather_temperature  \\\n",
       "170  Los Angeles Memorial Coliseum             True                 54.0   \n",
       "350                    Orange Bowl             True                 60.0   \n",
       "538                    Orange Bowl             True                 66.0   \n",
       "727                 Tulane Stadium             True                 55.0   \n",
       "916                    Orange Bowl             True                 59.0   \n",
       "\n",
       "     weather_wind_mph weather_humidity weather_detail home_label away_label  \n",
       "170               7.0               90            NaN         GB         KC  \n",
       "350              12.0               74            NaN         GB         LV  \n",
       "538              12.0               80            NaN        IND        NYJ  \n",
       "727              14.0               84            NaN         KC        MIN  \n",
       "916              11.0               60            NaN        IND        DAL  "
      ]
     },
     "execution_count": 52,
     "metadata": {},
     "output_type": "execute_result"
    }
   ],
   "source": [
    "scores_df = scores_df[scores_df['team_favorite_id'].notna()]\n",
    "scores_df.head()"
   ]
  },
  {
   "cell_type": "code",
   "execution_count": 53,
   "metadata": {},
   "outputs": [],
   "source": [
    "# inserting new column with values of list made above         \n",
    "scores_df.insert(scores_df.columns.get_loc('team_favorite_id'), \"winner\",0) "
   ]
  },
  {
   "cell_type": "code",
   "execution_count": 54,
   "metadata": {},
   "outputs": [
    {
     "data": {
      "text/html": [
       "<div>\n",
       "<style scoped>\n",
       "    .dataframe tbody tr th:only-of-type {\n",
       "        vertical-align: middle;\n",
       "    }\n",
       "\n",
       "    .dataframe tbody tr th {\n",
       "        vertical-align: top;\n",
       "    }\n",
       "\n",
       "    .dataframe thead th {\n",
       "        text-align: right;\n",
       "    }\n",
       "</style>\n",
       "<table border=\"1\" class=\"dataframe\">\n",
       "  <thead>\n",
       "    <tr style=\"text-align: right;\">\n",
       "      <th></th>\n",
       "      <th>schedule_date</th>\n",
       "      <th>schedule_season</th>\n",
       "      <th>schedule_week</th>\n",
       "      <th>schedule_playoff</th>\n",
       "      <th>team_home</th>\n",
       "      <th>score_home</th>\n",
       "      <th>score_away</th>\n",
       "      <th>team_away</th>\n",
       "      <th>winner</th>\n",
       "      <th>team_favorite_id</th>\n",
       "      <th>spread_favorite</th>\n",
       "      <th>over_under_line</th>\n",
       "      <th>stadium</th>\n",
       "      <th>stadium_neutral</th>\n",
       "      <th>weather_temperature</th>\n",
       "      <th>weather_wind_mph</th>\n",
       "      <th>weather_humidity</th>\n",
       "      <th>weather_detail</th>\n",
       "      <th>home_label</th>\n",
       "      <th>away_label</th>\n",
       "    </tr>\n",
       "  </thead>\n",
       "  <tbody>\n",
       "    <tr>\n",
       "      <th>170</th>\n",
       "      <td>01/15/1967</td>\n",
       "      <td>1966</td>\n",
       "      <td>Superbowl</td>\n",
       "      <td>True</td>\n",
       "      <td>Green Bay Packers</td>\n",
       "      <td>35</td>\n",
       "      <td>10</td>\n",
       "      <td>Kansas City Chiefs</td>\n",
       "      <td>0</td>\n",
       "      <td>GB</td>\n",
       "      <td>-14.0</td>\n",
       "      <td>NaN</td>\n",
       "      <td>Los Angeles Memorial Coliseum</td>\n",
       "      <td>True</td>\n",
       "      <td>54.0</td>\n",
       "      <td>7.0</td>\n",
       "      <td>90</td>\n",
       "      <td>NaN</td>\n",
       "      <td>GB</td>\n",
       "      <td>KC</td>\n",
       "    </tr>\n",
       "    <tr>\n",
       "      <th>350</th>\n",
       "      <td>01/14/1968</td>\n",
       "      <td>1967</td>\n",
       "      <td>Superbowl</td>\n",
       "      <td>True</td>\n",
       "      <td>Green Bay Packers</td>\n",
       "      <td>33</td>\n",
       "      <td>14</td>\n",
       "      <td>Las Vegas Raiders</td>\n",
       "      <td>0</td>\n",
       "      <td>GB</td>\n",
       "      <td>-13.5</td>\n",
       "      <td>43</td>\n",
       "      <td>Orange Bowl</td>\n",
       "      <td>True</td>\n",
       "      <td>60.0</td>\n",
       "      <td>12.0</td>\n",
       "      <td>74</td>\n",
       "      <td>NaN</td>\n",
       "      <td>GB</td>\n",
       "      <td>LV</td>\n",
       "    </tr>\n",
       "    <tr>\n",
       "      <th>538</th>\n",
       "      <td>01/12/1969</td>\n",
       "      <td>1968</td>\n",
       "      <td>Superbowl</td>\n",
       "      <td>True</td>\n",
       "      <td>Indianapolis Colts</td>\n",
       "      <td>7</td>\n",
       "      <td>16</td>\n",
       "      <td>New York Jets</td>\n",
       "      <td>0</td>\n",
       "      <td>IND</td>\n",
       "      <td>-18.0</td>\n",
       "      <td>40</td>\n",
       "      <td>Orange Bowl</td>\n",
       "      <td>True</td>\n",
       "      <td>66.0</td>\n",
       "      <td>12.0</td>\n",
       "      <td>80</td>\n",
       "      <td>NaN</td>\n",
       "      <td>IND</td>\n",
       "      <td>NYJ</td>\n",
       "    </tr>\n",
       "    <tr>\n",
       "      <th>727</th>\n",
       "      <td>01/11/1970</td>\n",
       "      <td>1969</td>\n",
       "      <td>Superbowl</td>\n",
       "      <td>True</td>\n",
       "      <td>Kansas City Chiefs</td>\n",
       "      <td>23</td>\n",
       "      <td>7</td>\n",
       "      <td>Minnesota Vikings</td>\n",
       "      <td>0</td>\n",
       "      <td>MIN</td>\n",
       "      <td>-12.0</td>\n",
       "      <td>39</td>\n",
       "      <td>Tulane Stadium</td>\n",
       "      <td>True</td>\n",
       "      <td>55.0</td>\n",
       "      <td>14.0</td>\n",
       "      <td>84</td>\n",
       "      <td>NaN</td>\n",
       "      <td>KC</td>\n",
       "      <td>MIN</td>\n",
       "    </tr>\n",
       "    <tr>\n",
       "      <th>916</th>\n",
       "      <td>01/17/1971</td>\n",
       "      <td>1970</td>\n",
       "      <td>Superbowl</td>\n",
       "      <td>True</td>\n",
       "      <td>Indianapolis Colts</td>\n",
       "      <td>16</td>\n",
       "      <td>13</td>\n",
       "      <td>Dallas Cowboys</td>\n",
       "      <td>0</td>\n",
       "      <td>IND</td>\n",
       "      <td>-2.5</td>\n",
       "      <td>36</td>\n",
       "      <td>Orange Bowl</td>\n",
       "      <td>True</td>\n",
       "      <td>59.0</td>\n",
       "      <td>11.0</td>\n",
       "      <td>60</td>\n",
       "      <td>NaN</td>\n",
       "      <td>IND</td>\n",
       "      <td>DAL</td>\n",
       "    </tr>\n",
       "  </tbody>\n",
       "</table>\n",
       "</div>"
      ],
      "text/plain": [
       "    schedule_date  schedule_season schedule_week  schedule_playoff  \\\n",
       "170    01/15/1967             1966     Superbowl              True   \n",
       "350    01/14/1968             1967     Superbowl              True   \n",
       "538    01/12/1969             1968     Superbowl              True   \n",
       "727    01/11/1970             1969     Superbowl              True   \n",
       "916    01/17/1971             1970     Superbowl              True   \n",
       "\n",
       "              team_home  score_home  score_away           team_away  winner  \\\n",
       "170   Green Bay Packers          35          10  Kansas City Chiefs       0   \n",
       "350   Green Bay Packers          33          14   Las Vegas Raiders       0   \n",
       "538  Indianapolis Colts           7          16       New York Jets       0   \n",
       "727  Kansas City Chiefs          23           7   Minnesota Vikings       0   \n",
       "916  Indianapolis Colts          16          13      Dallas Cowboys       0   \n",
       "\n",
       "    team_favorite_id  spread_favorite over_under_line  \\\n",
       "170               GB            -14.0             NaN   \n",
       "350               GB            -13.5              43   \n",
       "538              IND            -18.0              40   \n",
       "727              MIN            -12.0              39   \n",
       "916              IND             -2.5              36   \n",
       "\n",
       "                           stadium  stadium_neutral  weather_temperature  \\\n",
       "170  Los Angeles Memorial Coliseum             True                 54.0   \n",
       "350                    Orange Bowl             True                 60.0   \n",
       "538                    Orange Bowl             True                 66.0   \n",
       "727                 Tulane Stadium             True                 55.0   \n",
       "916                    Orange Bowl             True                 59.0   \n",
       "\n",
       "     weather_wind_mph weather_humidity weather_detail home_label away_label  \n",
       "170               7.0               90            NaN         GB         KC  \n",
       "350              12.0               74            NaN         GB         LV  \n",
       "538              12.0               80            NaN        IND        NYJ  \n",
       "727              14.0               84            NaN         KC        MIN  \n",
       "916              11.0               60            NaN        IND        DAL  "
      ]
     },
     "execution_count": 54,
     "metadata": {},
     "output_type": "execute_result"
    }
   ],
   "source": [
    "scores_df.head()"
   ]
  },
  {
   "cell_type": "code",
   "execution_count": 55,
   "metadata": {},
   "outputs": [],
   "source": [
    "#Create winner column\n",
    "scores_df['winner'] = np.where(scores_df['score_home'] > scores_df['score_away'], scores_df['team_home'], scores_df['team_away'])\n",
    "\n",
    "#check for ties\n",
    "scores_df['winner'] = np.where(scores_df['score_home'] == scores_df['score_away'], \"tie\", scores_df['winner'])"
   ]
  },
  {
   "cell_type": "code",
   "execution_count": 56,
   "metadata": {},
   "outputs": [
    {
     "data": {
      "text/html": [
       "<div>\n",
       "<style scoped>\n",
       "    .dataframe tbody tr th:only-of-type {\n",
       "        vertical-align: middle;\n",
       "    }\n",
       "\n",
       "    .dataframe tbody tr th {\n",
       "        vertical-align: top;\n",
       "    }\n",
       "\n",
       "    .dataframe thead th {\n",
       "        text-align: right;\n",
       "    }\n",
       "</style>\n",
       "<table border=\"1\" class=\"dataframe\">\n",
       "  <thead>\n",
       "    <tr style=\"text-align: right;\">\n",
       "      <th></th>\n",
       "      <th>schedule_date</th>\n",
       "      <th>schedule_season</th>\n",
       "      <th>schedule_week</th>\n",
       "      <th>schedule_playoff</th>\n",
       "      <th>team_home</th>\n",
       "      <th>score_home</th>\n",
       "      <th>score_away</th>\n",
       "      <th>team_away</th>\n",
       "      <th>winner</th>\n",
       "      <th>team_favorite_id</th>\n",
       "      <th>spread_favorite</th>\n",
       "      <th>over_under_line</th>\n",
       "      <th>stadium</th>\n",
       "      <th>stadium_neutral</th>\n",
       "      <th>weather_temperature</th>\n",
       "      <th>weather_wind_mph</th>\n",
       "      <th>weather_humidity</th>\n",
       "      <th>weather_detail</th>\n",
       "      <th>home_label</th>\n",
       "      <th>away_label</th>\n",
       "    </tr>\n",
       "  </thead>\n",
       "  <tbody>\n",
       "    <tr>\n",
       "      <th>170</th>\n",
       "      <td>01/15/1967</td>\n",
       "      <td>1966</td>\n",
       "      <td>Superbowl</td>\n",
       "      <td>True</td>\n",
       "      <td>Green Bay Packers</td>\n",
       "      <td>35</td>\n",
       "      <td>10</td>\n",
       "      <td>Kansas City Chiefs</td>\n",
       "      <td>Green Bay Packers</td>\n",
       "      <td>GB</td>\n",
       "      <td>-14.0</td>\n",
       "      <td>NaN</td>\n",
       "      <td>Los Angeles Memorial Coliseum</td>\n",
       "      <td>True</td>\n",
       "      <td>54.0</td>\n",
       "      <td>7.0</td>\n",
       "      <td>90</td>\n",
       "      <td>NaN</td>\n",
       "      <td>GB</td>\n",
       "      <td>KC</td>\n",
       "    </tr>\n",
       "    <tr>\n",
       "      <th>350</th>\n",
       "      <td>01/14/1968</td>\n",
       "      <td>1967</td>\n",
       "      <td>Superbowl</td>\n",
       "      <td>True</td>\n",
       "      <td>Green Bay Packers</td>\n",
       "      <td>33</td>\n",
       "      <td>14</td>\n",
       "      <td>Las Vegas Raiders</td>\n",
       "      <td>Green Bay Packers</td>\n",
       "      <td>GB</td>\n",
       "      <td>-13.5</td>\n",
       "      <td>43</td>\n",
       "      <td>Orange Bowl</td>\n",
       "      <td>True</td>\n",
       "      <td>60.0</td>\n",
       "      <td>12.0</td>\n",
       "      <td>74</td>\n",
       "      <td>NaN</td>\n",
       "      <td>GB</td>\n",
       "      <td>LV</td>\n",
       "    </tr>\n",
       "    <tr>\n",
       "      <th>538</th>\n",
       "      <td>01/12/1969</td>\n",
       "      <td>1968</td>\n",
       "      <td>Superbowl</td>\n",
       "      <td>True</td>\n",
       "      <td>Indianapolis Colts</td>\n",
       "      <td>7</td>\n",
       "      <td>16</td>\n",
       "      <td>New York Jets</td>\n",
       "      <td>New York Jets</td>\n",
       "      <td>IND</td>\n",
       "      <td>-18.0</td>\n",
       "      <td>40</td>\n",
       "      <td>Orange Bowl</td>\n",
       "      <td>True</td>\n",
       "      <td>66.0</td>\n",
       "      <td>12.0</td>\n",
       "      <td>80</td>\n",
       "      <td>NaN</td>\n",
       "      <td>IND</td>\n",
       "      <td>NYJ</td>\n",
       "    </tr>\n",
       "    <tr>\n",
       "      <th>727</th>\n",
       "      <td>01/11/1970</td>\n",
       "      <td>1969</td>\n",
       "      <td>Superbowl</td>\n",
       "      <td>True</td>\n",
       "      <td>Kansas City Chiefs</td>\n",
       "      <td>23</td>\n",
       "      <td>7</td>\n",
       "      <td>Minnesota Vikings</td>\n",
       "      <td>Kansas City Chiefs</td>\n",
       "      <td>MIN</td>\n",
       "      <td>-12.0</td>\n",
       "      <td>39</td>\n",
       "      <td>Tulane Stadium</td>\n",
       "      <td>True</td>\n",
       "      <td>55.0</td>\n",
       "      <td>14.0</td>\n",
       "      <td>84</td>\n",
       "      <td>NaN</td>\n",
       "      <td>KC</td>\n",
       "      <td>MIN</td>\n",
       "    </tr>\n",
       "    <tr>\n",
       "      <th>916</th>\n",
       "      <td>01/17/1971</td>\n",
       "      <td>1970</td>\n",
       "      <td>Superbowl</td>\n",
       "      <td>True</td>\n",
       "      <td>Indianapolis Colts</td>\n",
       "      <td>16</td>\n",
       "      <td>13</td>\n",
       "      <td>Dallas Cowboys</td>\n",
       "      <td>Indianapolis Colts</td>\n",
       "      <td>IND</td>\n",
       "      <td>-2.5</td>\n",
       "      <td>36</td>\n",
       "      <td>Orange Bowl</td>\n",
       "      <td>True</td>\n",
       "      <td>59.0</td>\n",
       "      <td>11.0</td>\n",
       "      <td>60</td>\n",
       "      <td>NaN</td>\n",
       "      <td>IND</td>\n",
       "      <td>DAL</td>\n",
       "    </tr>\n",
       "  </tbody>\n",
       "</table>\n",
       "</div>"
      ],
      "text/plain": [
       "    schedule_date  schedule_season schedule_week  schedule_playoff  \\\n",
       "170    01/15/1967             1966     Superbowl              True   \n",
       "350    01/14/1968             1967     Superbowl              True   \n",
       "538    01/12/1969             1968     Superbowl              True   \n",
       "727    01/11/1970             1969     Superbowl              True   \n",
       "916    01/17/1971             1970     Superbowl              True   \n",
       "\n",
       "              team_home  score_home  score_away           team_away  \\\n",
       "170   Green Bay Packers          35          10  Kansas City Chiefs   \n",
       "350   Green Bay Packers          33          14   Las Vegas Raiders   \n",
       "538  Indianapolis Colts           7          16       New York Jets   \n",
       "727  Kansas City Chiefs          23           7   Minnesota Vikings   \n",
       "916  Indianapolis Colts          16          13      Dallas Cowboys   \n",
       "\n",
       "                 winner team_favorite_id  spread_favorite over_under_line  \\\n",
       "170   Green Bay Packers               GB            -14.0             NaN   \n",
       "350   Green Bay Packers               GB            -13.5              43   \n",
       "538       New York Jets              IND            -18.0              40   \n",
       "727  Kansas City Chiefs              MIN            -12.0              39   \n",
       "916  Indianapolis Colts              IND             -2.5              36   \n",
       "\n",
       "                           stadium  stadium_neutral  weather_temperature  \\\n",
       "170  Los Angeles Memorial Coliseum             True                 54.0   \n",
       "350                    Orange Bowl             True                 60.0   \n",
       "538                    Orange Bowl             True                 66.0   \n",
       "727                 Tulane Stadium             True                 55.0   \n",
       "916                    Orange Bowl             True                 59.0   \n",
       "\n",
       "     weather_wind_mph weather_humidity weather_detail home_label away_label  \n",
       "170               7.0               90            NaN         GB         KC  \n",
       "350              12.0               74            NaN         GB         LV  \n",
       "538              12.0               80            NaN        IND        NYJ  \n",
       "727              14.0               84            NaN         KC        MIN  \n",
       "916              11.0               60            NaN        IND        DAL  "
      ]
     },
     "execution_count": 56,
     "metadata": {},
     "output_type": "execute_result"
    }
   ],
   "source": [
    "scores_df.head()"
   ]
  },
  {
   "cell_type": "code",
   "execution_count": 57,
   "metadata": {},
   "outputs": [
    {
     "data": {
      "text/plain": [
       "array(['Green Bay Packers', 'New York Jets', 'Kansas City Chiefs',\n",
       "       'Indianapolis Colts', 'Dallas Cowboys', 'Miami Dolphins',\n",
       "       'Pittsburgh Steelers', 'Las Vegas Raiders', 'New York Giants',\n",
       "       'Atlanta Falcons', 'Tennessee Titans', 'Los Angeles Rams',\n",
       "       'Tampa Bay Buccaneers', 'Chicago Bears', 'Denver Broncos',\n",
       "       'Minnesota Vikings', 'Cleveland Browns', 'Philadelphia Eagles',\n",
       "       'Los Angeles Chargers', 'Buffalo Bills', 'Washington Redskins',\n",
       "       'New England Patriots', 'Arizona Cardinals', 'Seattle Seahawks',\n",
       "       'Detroit Lions', 'New Orleans Saints', 'Cincinnati Bengals',\n",
       "       'San Francisco 49ers', 'tie', 'Jacksonville Jaguars',\n",
       "       'Carolina Panthers', 'Baltimore Ravens', 'Houston Texans'],\n",
       "      dtype=object)"
      ]
     },
     "execution_count": 57,
     "metadata": {},
     "output_type": "execute_result"
    }
   ],
   "source": [
    "scores_df['winner'].unique()"
   ]
  },
  {
   "cell_type": "code",
   "execution_count": 58,
   "metadata": {},
   "outputs": [],
   "source": [
    "#Count number of wins for each team\n",
    "team_wins = scores_df"
   ]
  },
  {
   "cell_type": "code",
   "execution_count": 59,
   "metadata": {},
   "outputs": [
    {
     "data": {
      "text/plain": [
       "winner\n",
       "Arizona Cardinals    267\n",
       "Atlanta Falcons      308\n",
       "Baltimore Ravens     229\n",
       "Buffalo Bills        327\n",
       "Carolina Panthers    204\n",
       "Name: team_home, dtype: int64"
      ]
     },
     "execution_count": 59,
     "metadata": {},
     "output_type": "execute_result"
    }
   ],
   "source": [
    "team_wins = scores_df.groupby(['winner']).count()['team_home']\n",
    "team_wins.head()"
   ]
  },
  {
   "cell_type": "code",
   "execution_count": 60,
   "metadata": {},
   "outputs": [
    {
     "data": {
      "text/html": [
       "<div>\n",
       "<style scoped>\n",
       "    .dataframe tbody tr th:only-of-type {\n",
       "        vertical-align: middle;\n",
       "    }\n",
       "\n",
       "    .dataframe tbody tr th {\n",
       "        vertical-align: top;\n",
       "    }\n",
       "\n",
       "    .dataframe thead th {\n",
       "        text-align: right;\n",
       "    }\n",
       "</style>\n",
       "<table border=\"1\" class=\"dataframe\">\n",
       "  <thead>\n",
       "    <tr style=\"text-align: right;\">\n",
       "      <th></th>\n",
       "      <th>number of wins</th>\n",
       "    </tr>\n",
       "    <tr>\n",
       "      <th>winner</th>\n",
       "      <th></th>\n",
       "    </tr>\n",
       "  </thead>\n",
       "  <tbody>\n",
       "    <tr>\n",
       "      <th>tie</th>\n",
       "      <td>22</td>\n",
       "    </tr>\n",
       "    <tr>\n",
       "      <th>Houston Texans</th>\n",
       "      <td>135</td>\n",
       "    </tr>\n",
       "    <tr>\n",
       "      <th>Jacksonville Jaguars</th>\n",
       "      <td>183</td>\n",
       "    </tr>\n",
       "    <tr>\n",
       "      <th>Carolina Panthers</th>\n",
       "      <td>204</td>\n",
       "    </tr>\n",
       "    <tr>\n",
       "      <th>Baltimore Ravens</th>\n",
       "      <td>229</td>\n",
       "    </tr>\n",
       "    <tr>\n",
       "      <th>Cleveland Browns</th>\n",
       "      <td>234</td>\n",
       "    </tr>\n",
       "    <tr>\n",
       "      <th>Detroit Lions</th>\n",
       "      <td>256</td>\n",
       "    </tr>\n",
       "    <tr>\n",
       "      <th>Tampa Bay Buccaneers</th>\n",
       "      <td>264</td>\n",
       "    </tr>\n",
       "    <tr>\n",
       "      <th>Arizona Cardinals</th>\n",
       "      <td>267</td>\n",
       "    </tr>\n",
       "    <tr>\n",
       "      <th>Cincinnati Bengals</th>\n",
       "      <td>286</td>\n",
       "    </tr>\n",
       "    <tr>\n",
       "      <th>New York Jets</th>\n",
       "      <td>304</td>\n",
       "    </tr>\n",
       "    <tr>\n",
       "      <th>Atlanta Falcons</th>\n",
       "      <td>308</td>\n",
       "    </tr>\n",
       "    <tr>\n",
       "      <th>Los Angeles Rams</th>\n",
       "      <td>311</td>\n",
       "    </tr>\n",
       "    <tr>\n",
       "      <th>Las Vegas Raiders</th>\n",
       "      <td>319</td>\n",
       "    </tr>\n",
       "    <tr>\n",
       "      <th>Buffalo Bills</th>\n",
       "      <td>327</td>\n",
       "    </tr>\n",
       "    <tr>\n",
       "      <th>Los Angeles Chargers</th>\n",
       "      <td>328</td>\n",
       "    </tr>\n",
       "    <tr>\n",
       "      <th>Washington Redskins</th>\n",
       "      <td>333</td>\n",
       "    </tr>\n",
       "    <tr>\n",
       "      <th>Tennessee Titans</th>\n",
       "      <td>334</td>\n",
       "    </tr>\n",
       "    <tr>\n",
       "      <th>Indianapolis Colts</th>\n",
       "      <td>336</td>\n",
       "    </tr>\n",
       "    <tr>\n",
       "      <th>New Orleans Saints</th>\n",
       "      <td>336</td>\n",
       "    </tr>\n",
       "    <tr>\n",
       "      <th>Chicago Bears</th>\n",
       "      <td>340</td>\n",
       "    </tr>\n",
       "    <tr>\n",
       "      <th>New York Giants</th>\n",
       "      <td>349</td>\n",
       "    </tr>\n",
       "    <tr>\n",
       "      <th>Kansas City Chiefs</th>\n",
       "      <td>350</td>\n",
       "    </tr>\n",
       "    <tr>\n",
       "      <th>Seattle Seahawks</th>\n",
       "      <td>354</td>\n",
       "    </tr>\n",
       "    <tr>\n",
       "      <th>Minnesota Vikings</th>\n",
       "      <td>356</td>\n",
       "    </tr>\n",
       "    <tr>\n",
       "      <th>Miami Dolphins</th>\n",
       "      <td>361</td>\n",
       "    </tr>\n",
       "    <tr>\n",
       "      <th>Philadelphia Eagles</th>\n",
       "      <td>376</td>\n",
       "    </tr>\n",
       "    <tr>\n",
       "      <th>Dallas Cowboys</th>\n",
       "      <td>381</td>\n",
       "    </tr>\n",
       "    <tr>\n",
       "      <th>Green Bay Packers</th>\n",
       "      <td>383</td>\n",
       "    </tr>\n",
       "    <tr>\n",
       "      <th>San Francisco 49ers</th>\n",
       "      <td>394</td>\n",
       "    </tr>\n",
       "    <tr>\n",
       "      <th>Denver Broncos</th>\n",
       "      <td>398</td>\n",
       "    </tr>\n",
       "    <tr>\n",
       "      <th>Pittsburgh Steelers</th>\n",
       "      <td>415</td>\n",
       "    </tr>\n",
       "    <tr>\n",
       "      <th>New England Patriots</th>\n",
       "      <td>426</td>\n",
       "    </tr>\n",
       "  </tbody>\n",
       "</table>\n",
       "</div>"
      ],
      "text/plain": [
       "                      number of wins\n",
       "winner                              \n",
       "tie                               22\n",
       "Houston Texans                   135\n",
       "Jacksonville Jaguars             183\n",
       "Carolina Panthers                204\n",
       "Baltimore Ravens                 229\n",
       "Cleveland Browns                 234\n",
       "Detroit Lions                    256\n",
       "Tampa Bay Buccaneers             264\n",
       "Arizona Cardinals                267\n",
       "Cincinnati Bengals               286\n",
       "New York Jets                    304\n",
       "Atlanta Falcons                  308\n",
       "Los Angeles Rams                 311\n",
       "Las Vegas Raiders                319\n",
       "Buffalo Bills                    327\n",
       "Los Angeles Chargers             328\n",
       "Washington Redskins              333\n",
       "Tennessee Titans                 334\n",
       "Indianapolis Colts               336\n",
       "New Orleans Saints               336\n",
       "Chicago Bears                    340\n",
       "New York Giants                  349\n",
       "Kansas City Chiefs               350\n",
       "Seattle Seahawks                 354\n",
       "Minnesota Vikings                356\n",
       "Miami Dolphins                   361\n",
       "Philadelphia Eagles              376\n",
       "Dallas Cowboys                   381\n",
       "Green Bay Packers                383\n",
       "San Francisco 49ers              394\n",
       "Denver Broncos                   398\n",
       "Pittsburgh Steelers              415\n",
       "New England Patriots             426"
      ]
     },
     "execution_count": 60,
     "metadata": {},
     "output_type": "execute_result"
    }
   ],
   "source": [
    "#convert to df\n",
    "team_wins_df = pd.DataFrame(team_wins)\n",
    "#sort values \n",
    "team_wins_df = team_wins_df.sort_values(by='team_home')\n",
    "team_wins_df.columns = ['number of wins']\n",
    "team_wins_df"
   ]
  },
  {
   "cell_type": "code",
   "execution_count": 68,
   "metadata": {},
   "outputs": [
    {
     "data": {
      "text/plain": [
       "<BarContainer object of 33 artists>"
      ]
     },
     "execution_count": 68,
     "metadata": {},
     "output_type": "execute_result"
    },
    {
     "data": {
      "image/png": "[encoded data removed]",
      "text/plain": [
       "<Figure size 432x288 with 1 Axes>"
      ]
     },
     "metadata": {
      "needs_background": "light"
     },
     "output_type": "display_data"
    }
   ],
   "source": [
    "x_axis = team_wins_df.index\n",
    "y_axis = team_wins_df['number of wins']\n",
    "plt.bar(x_axis,y_axis)"
   ]
  },
  {
   "cell_type": "code",
   "execution_count": null,
   "metadata": {},
   "outputs": [],
   "source": []
  }
 ],
 "metadata": {
  "kernelspec": {
   "display_name": "PythonData",
   "language": "python",
   "name": "pythondata"
  },
  "language_info": {
   "codemirror_mode": {
    "name": "ipython",
    "version": 3
   },
   "file_extension": ".py",
   "mimetype": "text/x-python",
   "name": "python",
   "nbconvert_exporter": "python",
   "pygments_lexer": "ipython3",
   "version": "3.7.7"
  }
 },
 "nbformat": 4,
 "nbformat_minor": 4
}
